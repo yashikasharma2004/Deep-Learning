{
  "nbformat": 4,
  "nbformat_minor": 0,
  "metadata": {
    "colab": {
      "provenance": []
    },
    "kernelspec": {
      "name": "python3",
      "display_name": "Python 3"
    },
    "language_info": {
      "name": "python"
    }
  },
  "cells": [
    {
      "cell_type": "code",
      "execution_count": 10,
      "metadata": {
        "id": "oalvi23xcMWD"
      },
      "outputs": [],
      "source": [
        "#Simple Linear Regression example to predict the first year college grades of students from their high school SAT and GPA scores\n",
        "\n",
        "#Prodigy University is seeking to enhance its enrollment process. They plan to do so by implementing a predictive analytics model aimed at identifying prospective students who demonstrate a high potential for academic success.\n",
        "\n",
        "#The goal is to develop a predictive model that can accurately forecast the first-year college GPA of applicants based on their SAT scores and high school scores. This model is intended to serve as a strategic tool for the admissions office, enabling them to efficiently shortlist candidates who not only meet the academic standards of the university but are also likely to thrive in their chosen fields of study. By doing so, the university aspires to optimize its student selection process, improve academic outcomes, and foster an environment of excellence and high achievement."
      ]
    },
    {
      "cell_type": "code",
      "source": [
        "import pandas as pd"
      ],
      "metadata": {
        "id": "OB61x14OcjKQ"
      },
      "execution_count": 11,
      "outputs": []
    },
    {
      "cell_type": "code",
      "source": [
        "df=pd.read_csv('student_gpa_data_1000.csv')\n",
        "df.head(5)"
      ],
      "metadata": {
        "colab": {
          "base_uri": "https://localhost:8080/",
          "height": 206
        },
        "id": "AYYox1TFcmoD",
        "outputId": "426959e0-7491-4ccf-e1a4-06b49b78f389"
      },
      "execution_count": 12,
      "outputs": [
        {
          "output_type": "execute_result",
          "data": {
            "text/plain": [
              "   sat_sum  hs_gpa  fy_gpa\n",
              "0      482    3.54    3.53\n",
              "1      728    2.56    3.50\n",
              "2      650    3.70    3.94\n",
              "3      486    3.44    3.81\n",
              "4      451    2.62    2.31"
            ],
            "text/html": [
              "\n",
              "  <div id=\"df-a512b3cd-c800-48fc-a0b1-7d2cb68d7cb9\" class=\"colab-df-container\">\n",
              "    <div>\n",
              "<style scoped>\n",
              "    .dataframe tbody tr th:only-of-type {\n",
              "        vertical-align: middle;\n",
              "    }\n",
              "\n",
              "    .dataframe tbody tr th {\n",
              "        vertical-align: top;\n",
              "    }\n",
              "\n",
              "    .dataframe thead th {\n",
              "        text-align: right;\n",
              "    }\n",
              "</style>\n",
              "<table border=\"1\" class=\"dataframe\">\n",
              "  <thead>\n",
              "    <tr style=\"text-align: right;\">\n",
              "      <th></th>\n",
              "      <th>sat_sum</th>\n",
              "      <th>hs_gpa</th>\n",
              "      <th>fy_gpa</th>\n",
              "    </tr>\n",
              "  </thead>\n",
              "  <tbody>\n",
              "    <tr>\n",
              "      <th>0</th>\n",
              "      <td>482</td>\n",
              "      <td>3.54</td>\n",
              "      <td>3.53</td>\n",
              "    </tr>\n",
              "    <tr>\n",
              "      <th>1</th>\n",
              "      <td>728</td>\n",
              "      <td>2.56</td>\n",
              "      <td>3.50</td>\n",
              "    </tr>\n",
              "    <tr>\n",
              "      <th>2</th>\n",
              "      <td>650</td>\n",
              "      <td>3.70</td>\n",
              "      <td>3.94</td>\n",
              "    </tr>\n",
              "    <tr>\n",
              "      <th>3</th>\n",
              "      <td>486</td>\n",
              "      <td>3.44</td>\n",
              "      <td>3.81</td>\n",
              "    </tr>\n",
              "    <tr>\n",
              "      <th>4</th>\n",
              "      <td>451</td>\n",
              "      <td>2.62</td>\n",
              "      <td>2.31</td>\n",
              "    </tr>\n",
              "  </tbody>\n",
              "</table>\n",
              "</div>\n",
              "    <div class=\"colab-df-buttons\">\n",
              "\n",
              "  <div class=\"colab-df-container\">\n",
              "    <button class=\"colab-df-convert\" onclick=\"convertToInteractive('df-a512b3cd-c800-48fc-a0b1-7d2cb68d7cb9')\"\n",
              "            title=\"Convert this dataframe to an interactive table.\"\n",
              "            style=\"display:none;\">\n",
              "\n",
              "  <svg xmlns=\"http://www.w3.org/2000/svg\" height=\"24px\" viewBox=\"0 -960 960 960\">\n",
              "    <path d=\"M120-120v-720h720v720H120Zm60-500h600v-160H180v160Zm220 220h160v-160H400v160Zm0 220h160v-160H400v160ZM180-400h160v-160H180v160Zm440 0h160v-160H620v160ZM180-180h160v-160H180v160Zm440 0h160v-160H620v160Z\"/>\n",
              "  </svg>\n",
              "    </button>\n",
              "\n",
              "  <style>\n",
              "    .colab-df-container {\n",
              "      display:flex;\n",
              "      gap: 12px;\n",
              "    }\n",
              "\n",
              "    .colab-df-convert {\n",
              "      background-color: #E8F0FE;\n",
              "      border: none;\n",
              "      border-radius: 50%;\n",
              "      cursor: pointer;\n",
              "      display: none;\n",
              "      fill: #1967D2;\n",
              "      height: 32px;\n",
              "      padding: 0 0 0 0;\n",
              "      width: 32px;\n",
              "    }\n",
              "\n",
              "    .colab-df-convert:hover {\n",
              "      background-color: #E2EBFA;\n",
              "      box-shadow: 0px 1px 2px rgba(60, 64, 67, 0.3), 0px 1px 3px 1px rgba(60, 64, 67, 0.15);\n",
              "      fill: #174EA6;\n",
              "    }\n",
              "\n",
              "    .colab-df-buttons div {\n",
              "      margin-bottom: 4px;\n",
              "    }\n",
              "\n",
              "    [theme=dark] .colab-df-convert {\n",
              "      background-color: #3B4455;\n",
              "      fill: #D2E3FC;\n",
              "    }\n",
              "\n",
              "    [theme=dark] .colab-df-convert:hover {\n",
              "      background-color: #434B5C;\n",
              "      box-shadow: 0px 1px 3px 1px rgba(0, 0, 0, 0.15);\n",
              "      filter: drop-shadow(0px 1px 2px rgba(0, 0, 0, 0.3));\n",
              "      fill: #FFFFFF;\n",
              "    }\n",
              "  </style>\n",
              "\n",
              "    <script>\n",
              "      const buttonEl =\n",
              "        document.querySelector('#df-a512b3cd-c800-48fc-a0b1-7d2cb68d7cb9 button.colab-df-convert');\n",
              "      buttonEl.style.display =\n",
              "        google.colab.kernel.accessAllowed ? 'block' : 'none';\n",
              "\n",
              "      async function convertToInteractive(key) {\n",
              "        const element = document.querySelector('#df-a512b3cd-c800-48fc-a0b1-7d2cb68d7cb9');\n",
              "        const dataTable =\n",
              "          await google.colab.kernel.invokeFunction('convertToInteractive',\n",
              "                                                    [key], {});\n",
              "        if (!dataTable) return;\n",
              "\n",
              "        const docLinkHtml = 'Like what you see? Visit the ' +\n",
              "          '<a target=\"_blank\" href=https://colab.research.google.com/notebooks/data_table.ipynb>data table notebook</a>'\n",
              "          + ' to learn more about interactive tables.';\n",
              "        element.innerHTML = '';\n",
              "        dataTable['output_type'] = 'display_data';\n",
              "        await google.colab.output.renderOutput(dataTable, element);\n",
              "        const docLink = document.createElement('div');\n",
              "        docLink.innerHTML = docLinkHtml;\n",
              "        element.appendChild(docLink);\n",
              "      }\n",
              "    </script>\n",
              "  </div>\n",
              "\n",
              "\n",
              "    <div id=\"df-066ffcbe-a68f-4f16-b1ad-12df429837c5\">\n",
              "      <button class=\"colab-df-quickchart\" onclick=\"quickchart('df-066ffcbe-a68f-4f16-b1ad-12df429837c5')\"\n",
              "                title=\"Suggest charts\"\n",
              "                style=\"display:none;\">\n",
              "\n",
              "<svg xmlns=\"http://www.w3.org/2000/svg\" height=\"24px\"viewBox=\"0 0 24 24\"\n",
              "     width=\"24px\">\n",
              "    <g>\n",
              "        <path d=\"M19 3H5c-1.1 0-2 .9-2 2v14c0 1.1.9 2 2 2h14c1.1 0 2-.9 2-2V5c0-1.1-.9-2-2-2zM9 17H7v-7h2v7zm4 0h-2V7h2v10zm4 0h-2v-4h2v4z\"/>\n",
              "    </g>\n",
              "</svg>\n",
              "      </button>\n",
              "\n",
              "<style>\n",
              "  .colab-df-quickchart {\n",
              "      --bg-color: #E8F0FE;\n",
              "      --fill-color: #1967D2;\n",
              "      --hover-bg-color: #E2EBFA;\n",
              "      --hover-fill-color: #174EA6;\n",
              "      --disabled-fill-color: #AAA;\n",
              "      --disabled-bg-color: #DDD;\n",
              "  }\n",
              "\n",
              "  [theme=dark] .colab-df-quickchart {\n",
              "      --bg-color: #3B4455;\n",
              "      --fill-color: #D2E3FC;\n",
              "      --hover-bg-color: #434B5C;\n",
              "      --hover-fill-color: #FFFFFF;\n",
              "      --disabled-bg-color: #3B4455;\n",
              "      --disabled-fill-color: #666;\n",
              "  }\n",
              "\n",
              "  .colab-df-quickchart {\n",
              "    background-color: var(--bg-color);\n",
              "    border: none;\n",
              "    border-radius: 50%;\n",
              "    cursor: pointer;\n",
              "    display: none;\n",
              "    fill: var(--fill-color);\n",
              "    height: 32px;\n",
              "    padding: 0;\n",
              "    width: 32px;\n",
              "  }\n",
              "\n",
              "  .colab-df-quickchart:hover {\n",
              "    background-color: var(--hover-bg-color);\n",
              "    box-shadow: 0 1px 2px rgba(60, 64, 67, 0.3), 0 1px 3px 1px rgba(60, 64, 67, 0.15);\n",
              "    fill: var(--button-hover-fill-color);\n",
              "  }\n",
              "\n",
              "  .colab-df-quickchart-complete:disabled,\n",
              "  .colab-df-quickchart-complete:disabled:hover {\n",
              "    background-color: var(--disabled-bg-color);\n",
              "    fill: var(--disabled-fill-color);\n",
              "    box-shadow: none;\n",
              "  }\n",
              "\n",
              "  .colab-df-spinner {\n",
              "    border: 2px solid var(--fill-color);\n",
              "    border-color: transparent;\n",
              "    border-bottom-color: var(--fill-color);\n",
              "    animation:\n",
              "      spin 1s steps(1) infinite;\n",
              "  }\n",
              "\n",
              "  @keyframes spin {\n",
              "    0% {\n",
              "      border-color: transparent;\n",
              "      border-bottom-color: var(--fill-color);\n",
              "      border-left-color: var(--fill-color);\n",
              "    }\n",
              "    20% {\n",
              "      border-color: transparent;\n",
              "      border-left-color: var(--fill-color);\n",
              "      border-top-color: var(--fill-color);\n",
              "    }\n",
              "    30% {\n",
              "      border-color: transparent;\n",
              "      border-left-color: var(--fill-color);\n",
              "      border-top-color: var(--fill-color);\n",
              "      border-right-color: var(--fill-color);\n",
              "    }\n",
              "    40% {\n",
              "      border-color: transparent;\n",
              "      border-right-color: var(--fill-color);\n",
              "      border-top-color: var(--fill-color);\n",
              "    }\n",
              "    60% {\n",
              "      border-color: transparent;\n",
              "      border-right-color: var(--fill-color);\n",
              "    }\n",
              "    80% {\n",
              "      border-color: transparent;\n",
              "      border-right-color: var(--fill-color);\n",
              "      border-bottom-color: var(--fill-color);\n",
              "    }\n",
              "    90% {\n",
              "      border-color: transparent;\n",
              "      border-bottom-color: var(--fill-color);\n",
              "    }\n",
              "  }\n",
              "</style>\n",
              "\n",
              "      <script>\n",
              "        async function quickchart(key) {\n",
              "          const quickchartButtonEl =\n",
              "            document.querySelector('#' + key + ' button');\n",
              "          quickchartButtonEl.disabled = true;  // To prevent multiple clicks.\n",
              "          quickchartButtonEl.classList.add('colab-df-spinner');\n",
              "          try {\n",
              "            const charts = await google.colab.kernel.invokeFunction(\n",
              "                'suggestCharts', [key], {});\n",
              "          } catch (error) {\n",
              "            console.error('Error during call to suggestCharts:', error);\n",
              "          }\n",
              "          quickchartButtonEl.classList.remove('colab-df-spinner');\n",
              "          quickchartButtonEl.classList.add('colab-df-quickchart-complete');\n",
              "        }\n",
              "        (() => {\n",
              "          let quickchartButtonEl =\n",
              "            document.querySelector('#df-066ffcbe-a68f-4f16-b1ad-12df429837c5 button');\n",
              "          quickchartButtonEl.style.display =\n",
              "            google.colab.kernel.accessAllowed ? 'block' : 'none';\n",
              "        })();\n",
              "      </script>\n",
              "    </div>\n",
              "\n",
              "    </div>\n",
              "  </div>\n"
            ],
            "application/vnd.google.colaboratory.intrinsic+json": {
              "type": "dataframe",
              "variable_name": "df",
              "summary": "{\n  \"name\": \"df\",\n  \"rows\": 1000,\n  \"fields\": [\n    {\n      \"column\": \"sat_sum\",\n      \"properties\": {\n        \"dtype\": \"number\",\n        \"std\": 120,\n        \"min\": 380,\n        \"max\": 799,\n        \"num_unique_values\": 375,\n        \"samples\": [\n          613,\n          549,\n          510\n        ],\n        \"semantic_type\": \"\",\n        \"description\": \"\"\n      }\n    },\n    {\n      \"column\": \"hs_gpa\",\n      \"properties\": {\n        \"dtype\": \"number\",\n        \"std\": 0.4352917441239864,\n        \"min\": 2.51,\n        \"max\": 4.0,\n        \"num_unique_values\": 150,\n        \"samples\": [\n          2.58,\n          2.88,\n          3.94\n        ],\n        \"semantic_type\": \"\",\n        \"description\": \"\"\n      }\n    },\n    {\n      \"column\": \"fy_gpa\",\n      \"properties\": {\n        \"dtype\": \"number\",\n        \"std\": 0.4716669044662443,\n        \"min\": 2.02,\n        \"max\": 4.0,\n        \"num_unique_values\": 177,\n        \"samples\": [\n          3.74,\n          2.68,\n          2.54\n        ],\n        \"semantic_type\": \"\",\n        \"description\": \"\"\n      }\n    }\n  ]\n}"
            }
          },
          "metadata": {},
          "execution_count": 12
        }
      ]
    },
    {
      "cell_type": "code",
      "source": [
        "from collections.abc import ValuesView\n",
        "# convert data to numpy\n",
        "X = data[['sat_sum','hs_gpa']].values\n",
        "# reshape the fy_gpa into 2D array with [data size] rows and 1 column\n",
        "y=data['fy_gpa'].values.reshape(-1,1)\n",
        "print(X.shape)\n",
        "print(y.shape)"
      ],
      "metadata": {
        "colab": {
          "base_uri": "https://localhost:8080/"
        },
        "id": "Vsl9gACueLaG",
        "outputId": "848131be-4fb1-4f2d-a17a-819b6bdee621"
      },
      "execution_count": 13,
      "outputs": [
        {
          "output_type": "stream",
          "name": "stdout",
          "text": [
            "(1000, 2)\n",
            "(1000, 1)\n"
          ]
        }
      ]
    },
    {
      "cell_type": "code",
      "source": [
        "# train test split\n",
        "from sklearn.model_selection import train_test_split\n",
        "X_train,X_test,y_train,y_test=train_test_split(X,y,test_size=0.2,random_state=42)"
      ],
      "metadata": {
        "id": "WrrkDcv8gKS1"
      },
      "execution_count": 14,
      "outputs": []
    },
    {
      "cell_type": "code",
      "source": [
        "from sklearn.preprocessing import StandardScaler\n",
        "# normalize the feautures so that it is easier to train the data\n",
        "scaler=StandardScaler()\n",
        "X_train=scaler.fit_transform(X_train)\n",
        "X_test=scaler.transform(X_test)"
      ],
      "metadata": {
        "id": "490yBHsihdK-"
      },
      "execution_count": 15,
      "outputs": []
    },
    {
      "cell_type": "code",
      "source": [
        "X_train.shape"
      ],
      "metadata": {
        "colab": {
          "base_uri": "https://localhost:8080/"
        },
        "id": "Py_Y4rVAiBiI",
        "outputId": "2ec914f1-ad24-4c04-d313-e5da62e8c0ba"
      },
      "execution_count": 16,
      "outputs": [
        {
          "output_type": "execute_result",
          "data": {
            "text/plain": [
              "(800, 2)"
            ]
          },
          "metadata": {},
          "execution_count": 16
        }
      ]
    },
    {
      "cell_type": "code",
      "source": [
        "import torch\n",
        "# convert numpy to Pytorch tensors\n",
        "X_train_tensor=torch.tensor(X_train,dtype=torch.float32)\n",
        "y_train_tensor=torch.tensor(y_train,dtype=torch.float32)\n",
        "X_test_tensor=torch.tensor(X_test,dtype=torch.float32)\n",
        "y_test_tensor=torch.tensor(y_test,dtype=torch.float32)\n"
      ],
      "metadata": {
        "id": "2O_n4o41iEeu"
      },
      "execution_count": 17,
      "outputs": []
    },
    {
      "cell_type": "code",
      "source": [
        "# BUILDING MODEL\n",
        "\n",
        "import torch.nn as nn\n"
      ],
      "metadata": {
        "id": "qs-pApcZijYz"
      },
      "execution_count": 18,
      "outputs": []
    },
    {
      "cell_type": "code",
      "source": [
        "# BUILDING MODEL WITH 2 NEURONS\n",
        "model=nn.Sequential(\n",
        "    nn.Linear(2,2), # 2 i/p 2 o/p\n",
        "    nn.Sigmoid(),   # activation fxn\n",
        "    nn.Linear(2,1)\n",
        ")"
      ],
      "metadata": {
        "id": "Zfd3jY2SitRJ"
      },
      "execution_count": 19,
      "outputs": []
    },
    {
      "cell_type": "code",
      "source": [
        "# forward propagation\n",
        "preds=model(X_train_tensor)"
      ],
      "metadata": {
        "id": "h_hkCuv_jIqg"
      },
      "execution_count": 20,
      "outputs": []
    },
    {
      "cell_type": "code",
      "source": [
        "preds[:5]"
      ],
      "metadata": {
        "colab": {
          "base_uri": "https://localhost:8080/"
        },
        "id": "-mOZBUjYjPev",
        "outputId": "13d51d4c-e19b-447f-c49d-8059ea154315"
      },
      "execution_count": 21,
      "outputs": [
        {
          "output_type": "execute_result",
          "data": {
            "text/plain": [
              "tensor([[-0.3924],\n",
              "        [-0.2920],\n",
              "        [-0.3729],\n",
              "        [-0.1692],\n",
              "        [-0.5185]], grad_fn=<SliceBackward0>)"
            ]
          },
          "metadata": {},
          "execution_count": 21
        }
      ]
    },
    {
      "cell_type": "code",
      "source": [
        "from torch.nn import MSELoss"
      ],
      "metadata": {
        "id": "YluMindWjjcU"
      },
      "execution_count": 22,
      "outputs": []
    },
    {
      "cell_type": "code",
      "source": [
        "# Calculating Loss\n",
        "criterion = MSELoss()\n",
        "loss=criterion(preds, y_train_tensor)\n",
        "print(loss)\n"
      ],
      "metadata": {
        "colab": {
          "base_uri": "https://localhost:8080/"
        },
        "id": "T6YLagXRjv8c",
        "outputId": "3ace0b6a-f31b-4032-afcb-0a71b5b458ee"
      },
      "execution_count": 23,
      "outputs": [
        {
          "output_type": "stream",
          "name": "stdout",
          "text": [
            "tensor(14.1217, grad_fn=<MseLossBackward0>)\n"
          ]
        }
      ]
    },
    {
      "cell_type": "code",
      "source": [
        "preds[:5]"
      ],
      "metadata": {
        "colab": {
          "base_uri": "https://localhost:8080/"
        },
        "id": "jo1TjQtkkA6m",
        "outputId": "e8801dd0-f51c-4dc9-deb0-03651c8ba9a3"
      },
      "execution_count": 24,
      "outputs": [
        {
          "output_type": "execute_result",
          "data": {
            "text/plain": [
              "tensor([[-0.3924],\n",
              "        [-0.2920],\n",
              "        [-0.3729],\n",
              "        [-0.1692],\n",
              "        [-0.5185]], grad_fn=<SliceBackward0>)"
            ]
          },
          "metadata": {},
          "execution_count": 24
        }
      ]
    },
    {
      "cell_type": "code",
      "source": [
        "y_train_tensor[:5]"
      ],
      "metadata": {
        "colab": {
          "base_uri": "https://localhost:8080/"
        },
        "id": "FDrMxwJWkF1B",
        "outputId": "291beee6-fa9d-40eb-84e9-482360050d21"
      },
      "execution_count": 25,
      "outputs": [
        {
          "output_type": "execute_result",
          "data": {
            "text/plain": [
              "tensor([[3.4500],\n",
              "        [2.3300],\n",
              "        [3.2100],\n",
              "        [3.8600],\n",
              "        [3.6400]])"
            ]
          },
          "metadata": {},
          "execution_count": 25
        }
      ]
    },
    {
      "cell_type": "code",
      "source": [
        "model[0].weight"
      ],
      "metadata": {
        "colab": {
          "base_uri": "https://localhost:8080/"
        },
        "id": "JLanaEMvkJf-",
        "outputId": "b9e27cc7-9355-4123-c8d5-640bb42b3098"
      },
      "execution_count": 26,
      "outputs": [
        {
          "output_type": "execute_result",
          "data": {
            "text/plain": [
              "Parameter containing:\n",
              "tensor([[ 0.6534,  0.0514],\n",
              "        [-0.6183, -0.1389]], requires_grad=True)"
            ]
          },
          "metadata": {},
          "execution_count": 26
        }
      ]
    },
    {
      "cell_type": "code",
      "source": [
        "model[2].weight"
      ],
      "metadata": {
        "colab": {
          "base_uri": "https://localhost:8080/"
        },
        "id": "5nYWAxu8kNH2",
        "outputId": "cc55be5b-1539-4ea7-8a20-853b266b80f8"
      },
      "execution_count": 27,
      "outputs": [
        {
          "output_type": "execute_result",
          "data": {
            "text/plain": [
              "Parameter containing:\n",
              "tensor([[-0.6579,  0.1126]], requires_grad=True)"
            ]
          },
          "metadata": {},
          "execution_count": 27
        }
      ]
    },
    {
      "cell_type": "code",
      "source": [
        "\n",
        "import torch.optim as optim\n",
        "# Your optimizer\n",
        "optimizer = optim.SGD(model.parameters(), lr=0.001)"
      ],
      "metadata": {
        "id": "ZHkTGlV6-lpe"
      },
      "execution_count": 28,
      "outputs": []
    },
    {
      "cell_type": "code",
      "source": [
        "loss.backward()"
      ],
      "metadata": {
        "id": "4t6raapm-tIe"
      },
      "execution_count": 29,
      "outputs": []
    },
    {
      "cell_type": "code",
      "source": [
        "optimizer.step()"
      ],
      "metadata": {
        "id": "ddlcmG2j-x-A"
      },
      "execution_count": 30,
      "outputs": []
    },
    {
      "cell_type": "code",
      "source": [
        "model[0].weight"
      ],
      "metadata": {
        "colab": {
          "base_uri": "https://localhost:8080/"
        },
        "id": "dSd8oaNl-x6a",
        "outputId": "489a20da-a4d8-4dc5-bfe9-adf9fa47a7f5"
      },
      "execution_count": 31,
      "outputs": [
        {
          "output_type": "execute_result",
          "data": {
            "text/plain": [
              "Parameter containing:\n",
              "tensor([[ 0.6535,  0.0513],\n",
              "        [-0.6183, -0.1388]], requires_grad=True)"
            ]
          },
          "metadata": {},
          "execution_count": 31
        }
      ]
    },
    {
      "cell_type": "code",
      "source": [
        "model[2].weight"
      ],
      "metadata": {
        "colab": {
          "base_uri": "https://localhost:8080/"
        },
        "id": "-UaNSTQo-x37",
        "outputId": "2b4bce71-01d6-40bf-aed4-89fd39694dd6"
      },
      "execution_count": 32,
      "outputs": [
        {
          "output_type": "execute_result",
          "data": {
            "text/plain": [
              "Parameter containing:\n",
              "tensor([[-0.6533,  0.1163]], requires_grad=True)"
            ]
          },
          "metadata": {},
          "execution_count": 32
        }
      ]
    },
    {
      "cell_type": "code",
      "source": [
        "from torch.utils.data import TensorDataset,DataLoader"
      ],
      "metadata": {
        "id": "1UtsOq2T-x1Z"
      },
      "execution_count": 33,
      "outputs": []
    },
    {
      "cell_type": "code",
      "source": [
        "train_data=TensorDataset(X_train_tensor,y_train_tensor)"
      ],
      "metadata": {
        "id": "oO_0YCwv-xzA"
      },
      "execution_count": 34,
      "outputs": []
    },
    {
      "cell_type": "code",
      "source": [
        "train_data=TensorDataset(X_train_tensor,y_train_tensor)"
      ],
      "metadata": {
        "id": "8bV7kLj4-xwY"
      },
      "execution_count": 35,
      "outputs": []
    },
    {
      "cell_type": "code",
      "source": [
        "model=nn.Sequential(\n",
        "    nn.Linear(2,2),\n",
        "    nn.Sigmoid(),\n",
        "    nn.Linear(2,1)\n",
        ")\n",
        "optimizer=optim.SGD(model.parameters(),lr=0.001)"
      ],
      "metadata": {
        "id": "GcktOZEj-xuF"
      },
      "execution_count": 36,
      "outputs": []
    },
    {
      "cell_type": "code",
      "source": [
        "# performance on train and test sets before training\n",
        "train_loss = criterion(model(X_train_tensor),y_train_tensor).item()\n",
        "test_loss = criterion(model(X_test_tensor),y_test_tensor).item()\n",
        "print(f' without Training:\\n Train Loss: {train_loss:.4f}, Test Loss: {test_loss:.4f}')\n"
      ],
      "metadata": {
        "colab": {
          "base_uri": "https://localhost:8080/"
        },
        "id": "it3EzfKa-xrb",
        "outputId": "3e0f45ae-428c-42b1-9369-182859c00b3a"
      },
      "execution_count": 37,
      "outputs": [
        {
          "output_type": "stream",
          "name": "stdout",
          "text": [
            " without Training:\n",
            " Train Loss: 6.0057, Test Loss: 6.1519\n"
          ]
        }
      ]
    },
    {
      "cell_type": "code",
      "source": [
        "#  looking at predictions\n",
        "model(X_train_tensor)[:5]"
      ],
      "metadata": {
        "colab": {
          "base_uri": "https://localhost:8080/"
        },
        "id": "ik9MH7rn-xoy",
        "outputId": "620f0f58-8e98-435d-e3a1-63344085114f"
      },
      "execution_count": 38,
      "outputs": [
        {
          "output_type": "execute_result",
          "data": {
            "text/plain": [
              "tensor([[0.9391],\n",
              "        [0.9022],\n",
              "        [0.9645],\n",
              "        [0.9017],\n",
              "        [0.9903]], grad_fn=<SliceBackward0>)"
            ]
          },
          "metadata": {},
          "execution_count": 38
        }
      ]
    },
    {
      "cell_type": "code",
      "source": [
        "# STOCHASTIC GRADIENT DESCENT\n",
        "train_loader=DataLoader(train_data,batch_size=1,shuffle=True)\n",
        "for epoch in range(10):\n",
        "  for x_batch,y_batch in train_loader:\n",
        "    # forward pass\n",
        "    preds=model(x_batch)\n",
        "    loss=criterion(preds,y_batch)\n",
        "    # backward pass and optimization\n",
        "    optimizer.zero_grad()\n",
        "    loss.backward()\n",
        "    optimizer.step()\n",
        "\n",
        "  train_loss=criterion(model(X_train_tensor),y_train_tensor).item()\n",
        "  # print epoch,': ',train_loss)\n",
        "  test_loss = criterion(model(X_test_tensor), y_test_tensor).item()\n",
        "  print(f'Epoch {epoch+1}: Train Loss: {train_loss:.4f}, Test Loss: {test_loss:.4f}')"
      ],
      "metadata": {
        "colab": {
          "base_uri": "https://localhost:8080/"
        },
        "id": "MpaOvy46AlPl",
        "outputId": "d03e8395-12fe-44fd-cbae-a5742ce29bcf"
      },
      "execution_count": 39,
      "outputs": [
        {
          "output_type": "stream",
          "name": "stdout",
          "text": [
            "Epoch 1: Train Loss: 0.1571, Test Loss: 0.1678\n",
            "Epoch 2: Train Loss: 0.0933, Test Loss: 0.0911\n",
            "Epoch 3: Train Loss: 0.0868, Test Loss: 0.0856\n",
            "Epoch 4: Train Loss: 0.0828, Test Loss: 0.0818\n",
            "Epoch 5: Train Loss: 0.0803, Test Loss: 0.0804\n",
            "Epoch 6: Train Loss: 0.0790, Test Loss: 0.0787\n",
            "Epoch 7: Train Loss: 0.0779, Test Loss: 0.0794\n",
            "Epoch 8: Train Loss: 0.0774, Test Loss: 0.0797\n",
            "Epoch 9: Train Loss: 0.0769, Test Loss: 0.0784\n",
            "Epoch 10: Train Loss: 0.0767, Test Loss: 0.0782\n"
          ]
        }
      ]
    },
    {
      "cell_type": "code",
      "source": [
        "#looking at predictions\n",
        "model(X_train_tensor)[:5]"
      ],
      "metadata": {
        "colab": {
          "base_uri": "https://localhost:8080/"
        },
        "id": "WOXln2DxCK03",
        "outputId": "e7e2c7ab-cbae-4caa-e78d-2193e819fa0a"
      },
      "execution_count": 40,
      "outputs": [
        {
          "output_type": "execute_result",
          "data": {
            "text/plain": [
              "tensor([[3.3029],\n",
              "        [3.0389],\n",
              "        [3.5147],\n",
              "        [3.0512],\n",
              "        [3.6575]], grad_fn=<SliceBackward0>)"
            ]
          },
          "metadata": {},
          "execution_count": 40
        }
      ]
    },
    {
      "cell_type": "code",
      "source": [
        "# reintialize model weights\n",
        "model=nn.Sequential(\n",
        "    nn.Linear(2,2),\n",
        "    nn.Sigmoid(),\n",
        "    nn.Linear(2,1)\n",
        ")\n",
        "optimizer=optim.SGD(model.parameters(),lr=0.001)"
      ],
      "metadata": {
        "id": "wGsu_F1oCa89"
      },
      "execution_count": 41,
      "outputs": []
    },
    {
      "cell_type": "code",
      "source": [
        "train_loader=DataLoader(train_data,batch_size=800,shuffle=True)\n",
        "for epoch in range(1000):\n",
        "  for x_batch,y_batch in train_loader:\n",
        "    # forward pass\n",
        "    preds=model(x_batch)\n",
        "    loss=criterion(preds,y_batch)\n",
        "    # backward pass and optimization\n",
        "    optimizer.zero_grad()\n",
        "    loss.backward()\n",
        "    optimizer.step()\n",
        "\n",
        "  if (epoch+1)%100==0:\n",
        "    train_loss=criterion(model(X_train_tensor),y_train_tensor).item()\n",
        "    # print epoch,': ',train_loss)\n",
        "    test_loss = criterion(model(X_test_tensor), y_test_tensor).item()\n",
        "    print(f'Epoch {epoch+1}: Train Loss: {train_loss:.4f}, Test Loss: {test_loss:.4f}')"
      ],
      "metadata": {
        "colab": {
          "base_uri": "https://localhost:8080/"
        },
        "id": "1HvONFu8Cj6Z",
        "outputId": "c4cec421-fff6-48e3-9aca-9d3695470e7a"
      },
      "execution_count": 42,
      "outputs": [
        {
          "output_type": "stream",
          "name": "stdout",
          "text": [
            "Epoch 100: Train Loss: 5.1687, Test Loss: 5.3018\n",
            "Epoch 200: Train Loss: 2.7399, Test Loss: 2.8273\n",
            "Epoch 300: Train Loss: 1.4811, Test Loss: 1.5337\n",
            "Epoch 400: Train Loss: 0.8454, Test Loss: 0.8726\n",
            "Epoch 500: Train Loss: 0.5289, Test Loss: 0.5382\n",
            "Epoch 600: Train Loss: 0.3709, Test Loss: 0.3681\n",
            "Epoch 700: Train Loss: 0.2903, Test Loss: 0.2794\n",
            "Epoch 800: Train Loss: 0.2468, Test Loss: 0.2308\n",
            "Epoch 900: Train Loss: 0.2213, Test Loss: 0.2021\n",
            "Epoch 1000: Train Loss: 0.2046, Test Loss: 0.1836\n"
          ]
        }
      ]
    },
    {
      "cell_type": "code",
      "source": [
        "# mini batch gradient descent\n",
        "model=nn.Sequential(\n",
        "    nn.Linear(2,2),\n",
        "    nn.Sigmoid(),\n",
        "    nn.Linear(2,1)\n",
        ")\n",
        "optimizer=optim.SGD(model.parameters(),lr=0.001)"
      ],
      "metadata": {
        "id": "Vfe0veBjDQpl"
      },
      "execution_count": 43,
      "outputs": []
    },
    {
      "cell_type": "code",
      "source": [
        "train_loader=DataLoader(train_data,batch_size=64,shuffle=True)\n",
        "for epoch in range(500):\n",
        "  for x_batch,y_batch in train_loader:\n",
        "    # forward pass\n",
        "    preds=model(x_batch)\n",
        "    loss=criterion(preds,y_batch)\n",
        "    # backward pass and optimization\n",
        "    optimizer.zero_grad()\n",
        "    loss.backward()\n",
        "    optimizer.step()\n",
        "\n",
        "  if (epoch+1)%50==0:\n",
        "    train_loss=criterion(model(X_train_tensor),y_train_tensor).item()\n",
        "    # print epoch,': ',train_loss)\n",
        "    test_loss = criterion(model(X_test_tensor), y_test_tensor).item()\n",
        "    print(f'Epoch {epoch+1}: Train Loss: {train_loss:.4f}, Test Loss: {test_loss:.4f}')"
      ],
      "metadata": {
        "colab": {
          "base_uri": "https://localhost:8080/"
        },
        "id": "v95oC3w7Davs",
        "outputId": "86710583-4dd5-4a6a-9026-bd5a21a05af0"
      },
      "execution_count": 44,
      "outputs": [
        {
          "output_type": "stream",
          "name": "stdout",
          "text": [
            "Epoch 50: Train Loss: 0.4767, Test Loss: 0.5253\n",
            "Epoch 100: Train Loss: 0.2858, Test Loss: 0.3154\n",
            "Epoch 150: Train Loss: 0.2299, Test Loss: 0.2529\n",
            "Epoch 200: Train Loss: 0.1901, Test Loss: 0.2089\n",
            "Epoch 250: Train Loss: 0.1603, Test Loss: 0.1758\n",
            "Epoch 300: Train Loss: 0.1379, Test Loss: 0.1508\n",
            "Epoch 350: Train Loss: 0.1211, Test Loss: 0.1320\n",
            "Epoch 400: Train Loss: 0.1086, Test Loss: 0.1179\n",
            "Epoch 450: Train Loss: 0.0993, Test Loss: 0.1073\n",
            "Epoch 500: Train Loss: 0.0925, Test Loss: 0.0994\n"
          ]
        }
      ]
    },
    {
      "cell_type": "code",
      "source": [
        "# GRADIENT DESCENT WITH MOMENTUM"
      ],
      "metadata": {
        "id": "JwvzZGtKXa1H"
      },
      "execution_count": 45,
      "outputs": []
    },
    {
      "cell_type": "code",
      "source": [
        "\n",
        "model=nn.Sequential(\n",
        "    nn.Linear(2,2),\n",
        "    nn.Sigmoid(),\n",
        "    nn.Linear(2,1)\n",
        ")\n",
        "optimizer=optim.SGD(model.parameters(),lr=0.001,momentum=0.9)"
      ],
      "metadata": {
        "id": "cgDzwWDEXtQj"
      },
      "execution_count": 46,
      "outputs": []
    },
    {
      "cell_type": "code",
      "source": [
        "train_loader=DataLoader(train_data,batch_size=64,shuffle=True)\n",
        "for epoch in range(500):\n",
        "  for x_batch,y_batch in train_loader:\n",
        "    # forward pass\n",
        "    preds=model(x_batch)\n",
        "    loss=criterion(preds,y_batch)\n",
        "    # backward pass and optimization\n",
        "    optimizer.zero_grad()\n",
        "    loss.backward()\n",
        "    optimizer.step()\n",
        "\n",
        "  if (epoch+1)%50==0:\n",
        "    train_loss=criterion(model(X_train_tensor),y_train_tensor).item()\n",
        "    # print epoch,': ',train_loss)\n",
        "    test_loss = criterion(model(X_test_tensor), y_test_tensor).item()\n",
        "    print(f'Epoch {epoch+1}: Train Loss: {train_loss:.4f}, Test Loss: {test_loss:.4f}')"
      ],
      "metadata": {
        "colab": {
          "base_uri": "https://localhost:8080/"
        },
        "id": "2LCd7SH9Xs_F",
        "outputId": "437659f0-1b92-4da2-cd4b-7fc2b39f2db8"
      },
      "execution_count": 47,
      "outputs": [
        {
          "output_type": "stream",
          "name": "stdout",
          "text": [
            "Epoch 50: Train Loss: 0.1431, Test Loss: 0.1428\n",
            "Epoch 100: Train Loss: 0.0902, Test Loss: 0.0915\n",
            "Epoch 150: Train Loss: 0.0806, Test Loss: 0.0830\n",
            "Epoch 200: Train Loss: 0.0789, Test Loss: 0.0817\n",
            "Epoch 250: Train Loss: 0.0782, Test Loss: 0.0814\n",
            "Epoch 300: Train Loss: 0.0776, Test Loss: 0.0810\n",
            "Epoch 350: Train Loss: 0.0772, Test Loss: 0.0805\n",
            "Epoch 400: Train Loss: 0.0768, Test Loss: 0.0802\n",
            "Epoch 450: Train Loss: 0.0765, Test Loss: 0.0798\n",
            "Epoch 500: Train Loss: 0.0762, Test Loss: 0.0797\n"
          ]
        }
      ]
    },
    {
      "cell_type": "code",
      "source": [
        "# NESTERON MOMENTUM\n",
        "model=nn.Sequential(\n",
        "    nn.Linear(2,2),\n",
        "    nn.Sigmoid(),\n",
        "    nn.Linear(2,1)\n",
        ")\n",
        "optimizer=optim.SGD(model.parameters(),lr=0.001,momentum=0.9,nesterov=True)"
      ],
      "metadata": {
        "id": "Pheyoi7uXs7g"
      },
      "execution_count": 49,
      "outputs": []
    },
    {
      "cell_type": "code",
      "source": [
        "train_loader=DataLoader(train_data,batch_size=64,shuffle=True)\n",
        "for epoch in range(500):\n",
        "  for x_batch,y_batch in train_loader:\n",
        "    # forward pass\n",
        "    preds=model(x_batch)\n",
        "    loss=criterion(preds,y_batch)\n",
        "    # backward pass and optimization\n",
        "    optimizer.zero_grad()\n",
        "    loss.backward()\n",
        "    optimizer.step()\n",
        "\n",
        "  if (epoch+1)%50==0:\n",
        "    train_loss=criterion(model(X_train_tensor),y_train_tensor).item()\n",
        "    # print epoch,': ',train_loss)\n",
        "    test_loss = criterion(model(X_test_tensor), y_test_tensor).item()\n",
        "    print(f'Epoch {epoch+1}: Train Loss: {train_loss:.4f}, Test Loss: {test_loss:.4f}')\n"
      ],
      "metadata": {
        "colab": {
          "base_uri": "https://localhost:8080/"
        },
        "id": "oM1bV--dXs4d",
        "outputId": "27500f9d-c701-4d53-de0d-a2d151cffa61"
      },
      "execution_count": 50,
      "outputs": [
        {
          "output_type": "stream",
          "name": "stdout",
          "text": [
            "Epoch 50: Train Loss: 0.1352, Test Loss: 0.1434\n",
            "Epoch 100: Train Loss: 0.0855, Test Loss: 0.0903\n",
            "Epoch 150: Train Loss: 0.0780, Test Loss: 0.0817\n",
            "Epoch 200: Train Loss: 0.0770, Test Loss: 0.0805\n",
            "Epoch 250: Train Loss: 0.0766, Test Loss: 0.0801\n",
            "Epoch 300: Train Loss: 0.0763, Test Loss: 0.0797\n",
            "Epoch 350: Train Loss: 0.0760, Test Loss: 0.0795\n",
            "Epoch 400: Train Loss: 0.0758, Test Loss: 0.0793\n",
            "Epoch 450: Train Loss: 0.0756, Test Loss: 0.0791\n",
            "Epoch 500: Train Loss: 0.0754, Test Loss: 0.0789\n"
          ]
        }
      ]
    },
    {
      "cell_type": "code",
      "source": [
        "# ADAGRAD\n",
        "# NESTERON MOMENTUM\n",
        "model=nn.Sequential(\n",
        "    nn.Linear(2,2),\n",
        "    nn.Sigmoid(),\n",
        "    nn.Linear(2,1)\n",
        ")\n",
        "optimizer=optim.Adagrad(model.parameters())\n",
        ""
      ],
      "metadata": {
        "id": "nLuhDTHbdEPM"
      },
      "execution_count": 51,
      "outputs": []
    },
    {
      "cell_type": "code",
      "source": [
        "train_loader=DataLoader(train_data,batch_size=64,shuffle=True)\n",
        "for epoch in range(500):\n",
        "  for x_batch,y_batch in train_loader:\n",
        "    # forward pass\n",
        "    preds=model(x_batch)\n",
        "    loss=criterion(preds,y_batch)\n",
        "    # backward pass and optimization\n",
        "    optimizer.zero_grad()\n",
        "    loss.backward()\n",
        "    optimizer.step()\n",
        "\n",
        "  if (epoch+1)%50==0:\n",
        "    train_loss=criterion(model(X_train_tensor),y_train_tensor).item()\n",
        "    # print epoch,': ',train_loss)\n",
        "    test_loss = criterion(model(X_test_tensor), y_test_tensor).item()\n",
        "    print(f'Epoch {epoch+1}: Train Loss: {train_loss:.4f}, Test Loss: {test_loss:.4f}')\n"
      ],
      "metadata": {
        "colab": {
          "base_uri": "https://localhost:8080/"
        },
        "id": "ypjXH95zdEL2",
        "outputId": "7dd34964-bd05-4031-c372-2cfd89827925"
      },
      "execution_count": 52,
      "outputs": [
        {
          "output_type": "stream",
          "name": "stdout",
          "text": [
            "Epoch 50: Train Loss: 4.1973, Test Loss: 4.3184\n",
            "Epoch 100: Train Loss: 2.6579, Test Loss: 2.7555\n",
            "Epoch 150: Train Loss: 1.7438, Test Loss: 1.8234\n",
            "Epoch 200: Train Loss: 1.1635, Test Loss: 1.2282\n",
            "Epoch 250: Train Loss: 0.7882, Test Loss: 0.8407\n",
            "Epoch 300: Train Loss: 0.5441, Test Loss: 0.5867\n",
            "Epoch 350: Train Loss: 0.3852, Test Loss: 0.4198\n",
            "Epoch 400: Train Loss: 0.2815, Test Loss: 0.3097\n",
            "Epoch 450: Train Loss: 0.2136, Test Loss: 0.2369\n",
            "Epoch 500: Train Loss: 0.1690, Test Loss: 0.1883\n"
          ]
        }
      ]
    },
    {
      "cell_type": "code",
      "source": [
        "# RMS PROP\n",
        "model=nn.Sequential(\n",
        "    nn.Linear(2,2),\n",
        "    nn.Sigmoid(),\n",
        "    nn.Linear(2,1)\n",
        ")\n",
        "optimizer=optim.RMSprop(model.parameters())\n",
        ""
      ],
      "metadata": {
        "id": "TFrTsIzIdEJd"
      },
      "execution_count": 53,
      "outputs": []
    },
    {
      "cell_type": "code",
      "source": [
        "train_loader=DataLoader(train_data,batch_size=64,shuffle=True)\n",
        "for epoch in range(500):\n",
        "  for x_batch,y_batch in train_loader:\n",
        "    # forward pass\n",
        "    preds=model(x_batch)\n",
        "    loss=criterion(preds,y_batch)\n",
        "    # backward pass and optimization\n",
        "    optimizer.zero_grad()\n",
        "    loss.backward()\n",
        "    optimizer.step()\n",
        "\n",
        "  if (epoch+1)%50==0:\n",
        "    train_loss=criterion(model(X_train_tensor),y_train_tensor).item()\n",
        "    # print epoch,': ',train_loss)\n",
        "    test_loss = criterion(model(X_test_tensor), y_test_tensor).item()\n",
        "    print(f'Epoch {epoch+1}: Train Loss: {train_loss:.4f}, Test Loss: {test_loss:.4f}')\n"
      ],
      "metadata": {
        "colab": {
          "base_uri": "https://localhost:8080/"
        },
        "id": "Jcic4wZddEHJ",
        "outputId": "f4fe0ce1-376b-44ee-faf6-a50e30f4f041"
      },
      "execution_count": 54,
      "outputs": [
        {
          "output_type": "stream",
          "name": "stdout",
          "text": [
            "Epoch 50: Train Loss: 0.0740, Test Loss: 0.0763\n",
            "Epoch 100: Train Loss: 0.0737, Test Loss: 0.0762\n",
            "Epoch 150: Train Loss: 0.0742, Test Loss: 0.0761\n",
            "Epoch 200: Train Loss: 0.0758, Test Loss: 0.0754\n",
            "Epoch 250: Train Loss: 0.0737, Test Loss: 0.0782\n",
            "Epoch 300: Train Loss: 0.0743, Test Loss: 0.0756\n",
            "Epoch 350: Train Loss: 0.0746, Test Loss: 0.0797\n",
            "Epoch 400: Train Loss: 0.0737, Test Loss: 0.0777\n",
            "Epoch 450: Train Loss: 0.0749, Test Loss: 0.0758\n",
            "Epoch 500: Train Loss: 0.0743, Test Loss: 0.0787\n"
          ]
        }
      ]
    },
    {
      "cell_type": "code",
      "source": [
        " # ADAM\n",
        " model=nn.Sequential(\n",
        "    nn.Linear(2,2),\n",
        "    nn.Sigmoid(),\n",
        "    nn.Linear(2,1)\n",
        ")\n",
        "optimizer=optim.Adam(model.parameters())"
      ],
      "metadata": {
        "id": "qMZKN8cddEEm"
      },
      "execution_count": 55,
      "outputs": []
    },
    {
      "cell_type": "code",
      "source": [
        "train_loader=DataLoader(train_data,batch_size=64,shuffle=True)\n",
        "for epoch in range(500):\n",
        "  for x_batch,y_batch in train_loader:\n",
        "    # forward pass\n",
        "    preds=model(x_batch)\n",
        "    loss=criterion(preds,y_batch)\n",
        "    # backward pass and optimization\n",
        "    optimizer.zero_grad()\n",
        "    loss.backward()\n",
        "    optimizer.step()\n",
        "\n",
        "  if (epoch+1)%50==0:\n",
        "    train_loss=criterion(model(X_train_tensor),y_train_tensor).item()\n",
        "    # print epoch,': ',train_loss)\n",
        "    test_loss = criterion(model(X_test_tensor), y_test_tensor).item()\n",
        "    print(f'Epoch {epoch+1}: Train Loss: {train_loss:.4f}, Test Loss: {test_loss:.4f}')\n"
      ],
      "metadata": {
        "colab": {
          "base_uri": "https://localhost:8080/"
        },
        "id": "6xESQ07zdECA",
        "outputId": "850e9f8f-5c1d-49f1-ede9-17846a357c08"
      },
      "execution_count": 56,
      "outputs": [
        {
          "output_type": "stream",
          "name": "stdout",
          "text": [
            "Epoch 50: Train Loss: 5.9391, Test Loss: 6.0827\n",
            "Epoch 100: Train Loss: 1.2983, Test Loss: 1.3626\n",
            "Epoch 150: Train Loss: 0.1680, Test Loss: 0.1862\n",
            "Epoch 200: Train Loss: 0.0789, Test Loss: 0.0845\n",
            "Epoch 250: Train Loss: 0.0760, Test Loss: 0.0796\n",
            "Epoch 300: Train Loss: 0.0757, Test Loss: 0.0793\n",
            "Epoch 350: Train Loss: 0.0754, Test Loss: 0.0789\n",
            "Epoch 400: Train Loss: 0.0750, Test Loss: 0.0784\n",
            "Epoch 450: Train Loss: 0.0747, Test Loss: 0.0779\n",
            "Epoch 500: Train Loss: 0.0744, Test Loss: 0.0776\n"
          ]
        }
      ]
    },
    {
      "cell_type": "code",
      "source": [],
      "metadata": {
        "id": "jSoVr2OLdD8K"
      },
      "execution_count": null,
      "outputs": []
    }
  ]
}