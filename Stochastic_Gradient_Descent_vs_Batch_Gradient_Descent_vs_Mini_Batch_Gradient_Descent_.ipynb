{
  "nbformat": 4,
  "nbformat_minor": 0,
  "metadata": {
    "colab": {
      "provenance": []
    },
    "kernelspec": {
      "name": "python3",
      "display_name": "Python 3"
    },
    "language_info": {
      "name": "python"
    }
  },
  "cells": [
    {
      "cell_type": "code",
      "execution_count": 1,
      "metadata": {
        "colab": {
          "base_uri": "https://localhost:8080/"
        },
        "id": "J5PYyeRXfw1a",
        "outputId": "9619762b-2f78-449a-b536-b4bd1e06c873"
      },
      "outputs": [
        {
          "output_type": "stream",
          "name": "stdout",
          "text": [
            "    Area (sqft)  Bedrooms  Location Score  Price (Lakhs)\n",
            "0          1460         3             4.1          196.5\n",
            "1          1894         3             9.7          267.9\n",
            "2          1730         2             7.4          230.0\n",
            "3          1695         4             6.3          241.0\n",
            "4          2238         4             4.1          284.3\n",
            "5          2769         4             5.4          343.9\n",
            "6          1066         4             5.4          173.6\n",
            "7          1838         3             8.1          254.3\n",
            "8           930         2             7.7          151.5\n",
            "9          2082         2             9.0          273.2\n",
            "10         2735         3             5.0          328.5\n",
            "11          730         2             6.3          124.5\n",
            "12         2285         3             5.1          284.0\n",
            "13         1369         4             8.5          219.4\n",
            "14         2991         3             6.6          362.1\n",
            "15         2115         4             5.2          277.5\n",
            "16         1815         4             7.4          258.5\n",
            "17         1555         1             4.2          186.5\n",
            "18         2924         3             9.1          367.9\n",
            "19         1784         1             6.7          221.9\n",
            "20         1059         3             6.4          167.9\n",
            "21          621         3             9.6          140.1\n",
            "22         2900         1             8.4          342.0\n",
            "23         1347         1             6.0          174.7\n",
            "24         1074         3             7.4          174.4\n"
          ]
        }
      ],
      "source": [
        "import pandas as pd\n",
        "import numpy as np\n",
        "\n",
        "# Set seed for reproducibility\n",
        "np.random.seed(42)\n",
        "\n",
        "# Generate 25 rows\n",
        "rows = 25\n",
        "\n",
        "# Random data generation\n",
        "area = np.random.randint(600, 3000, size=rows)  # area in sq. ft.\n",
        "bedrooms = np.random.randint(1, 5, size=rows)  # number of bedrooms\n",
        "location_score = np.round(np.random.uniform(4.0, 10.0, size=rows), 1)  # rating out of 10\n",
        "\n",
        "# Simulate price using a basic formula\n",
        "# Price = (area * 0.1) + (bedrooms * 10) + (location_score * 5)\n",
        "price = np.round((area * 0.1) + (bedrooms * 10) + (location_score * 5), 2)\n",
        "\n",
        "# Create DataFrame\n",
        "df = pd.DataFrame({\n",
        "    'Area (sqft)': area,\n",
        "    'Bedrooms': bedrooms,\n",
        "    'Location Score': location_score,\n",
        "    'Price (Lakhs)': price\n",
        "})\n",
        "\n",
        "# Show the dataset\n",
        "print(df)\n",
        "\n",
        "# Optional: Save to CSV\n",
        "# df.to_csv(\"housing_data.csv\", index=False)\n"
      ]
    },
    {
      "cell_type": "code",
      "source": [
        "df.sample(5)"
      ],
      "metadata": {
        "colab": {
          "base_uri": "https://localhost:8080/",
          "height": 206
        },
        "id": "u99x3czVggge",
        "outputId": "3288d12c-0289-4b7a-8e41-7031749f7998"
      },
      "execution_count": 2,
      "outputs": [
        {
          "output_type": "execute_result",
          "data": {
            "text/plain": [
              "    Area (sqft)  Bedrooms  Location Score  Price (Lakhs)\n",
              "1          1894         3             9.7          267.9\n",
              "10         2735         3             5.0          328.5\n",
              "4          2238         4             4.1          284.3\n",
              "9          2082         2             9.0          273.2\n",
              "5          2769         4             5.4          343.9"
            ],
            "text/html": [
              "\n",
              "  <div id=\"df-07a5de08-6a80-4480-b166-0fd1c5627286\" class=\"colab-df-container\">\n",
              "    <div>\n",
              "<style scoped>\n",
              "    .dataframe tbody tr th:only-of-type {\n",
              "        vertical-align: middle;\n",
              "    }\n",
              "\n",
              "    .dataframe tbody tr th {\n",
              "        vertical-align: top;\n",
              "    }\n",
              "\n",
              "    .dataframe thead th {\n",
              "        text-align: right;\n",
              "    }\n",
              "</style>\n",
              "<table border=\"1\" class=\"dataframe\">\n",
              "  <thead>\n",
              "    <tr style=\"text-align: right;\">\n",
              "      <th></th>\n",
              "      <th>Area (sqft)</th>\n",
              "      <th>Bedrooms</th>\n",
              "      <th>Location Score</th>\n",
              "      <th>Price (Lakhs)</th>\n",
              "    </tr>\n",
              "  </thead>\n",
              "  <tbody>\n",
              "    <tr>\n",
              "      <th>1</th>\n",
              "      <td>1894</td>\n",
              "      <td>3</td>\n",
              "      <td>9.7</td>\n",
              "      <td>267.9</td>\n",
              "    </tr>\n",
              "    <tr>\n",
              "      <th>10</th>\n",
              "      <td>2735</td>\n",
              "      <td>3</td>\n",
              "      <td>5.0</td>\n",
              "      <td>328.5</td>\n",
              "    </tr>\n",
              "    <tr>\n",
              "      <th>4</th>\n",
              "      <td>2238</td>\n",
              "      <td>4</td>\n",
              "      <td>4.1</td>\n",
              "      <td>284.3</td>\n",
              "    </tr>\n",
              "    <tr>\n",
              "      <th>9</th>\n",
              "      <td>2082</td>\n",
              "      <td>2</td>\n",
              "      <td>9.0</td>\n",
              "      <td>273.2</td>\n",
              "    </tr>\n",
              "    <tr>\n",
              "      <th>5</th>\n",
              "      <td>2769</td>\n",
              "      <td>4</td>\n",
              "      <td>5.4</td>\n",
              "      <td>343.9</td>\n",
              "    </tr>\n",
              "  </tbody>\n",
              "</table>\n",
              "</div>\n",
              "    <div class=\"colab-df-buttons\">\n",
              "\n",
              "  <div class=\"colab-df-container\">\n",
              "    <button class=\"colab-df-convert\" onclick=\"convertToInteractive('df-07a5de08-6a80-4480-b166-0fd1c5627286')\"\n",
              "            title=\"Convert this dataframe to an interactive table.\"\n",
              "            style=\"display:none;\">\n",
              "\n",
              "  <svg xmlns=\"http://www.w3.org/2000/svg\" height=\"24px\" viewBox=\"0 -960 960 960\">\n",
              "    <path d=\"M120-120v-720h720v720H120Zm60-500h600v-160H180v160Zm220 220h160v-160H400v160Zm0 220h160v-160H400v160ZM180-400h160v-160H180v160Zm440 0h160v-160H620v160ZM180-180h160v-160H180v160Zm440 0h160v-160H620v160Z\"/>\n",
              "  </svg>\n",
              "    </button>\n",
              "\n",
              "  <style>\n",
              "    .colab-df-container {\n",
              "      display:flex;\n",
              "      gap: 12px;\n",
              "    }\n",
              "\n",
              "    .colab-df-convert {\n",
              "      background-color: #E8F0FE;\n",
              "      border: none;\n",
              "      border-radius: 50%;\n",
              "      cursor: pointer;\n",
              "      display: none;\n",
              "      fill: #1967D2;\n",
              "      height: 32px;\n",
              "      padding: 0 0 0 0;\n",
              "      width: 32px;\n",
              "    }\n",
              "\n",
              "    .colab-df-convert:hover {\n",
              "      background-color: #E2EBFA;\n",
              "      box-shadow: 0px 1px 2px rgba(60, 64, 67, 0.3), 0px 1px 3px 1px rgba(60, 64, 67, 0.15);\n",
              "      fill: #174EA6;\n",
              "    }\n",
              "\n",
              "    .colab-df-buttons div {\n",
              "      margin-bottom: 4px;\n",
              "    }\n",
              "\n",
              "    [theme=dark] .colab-df-convert {\n",
              "      background-color: #3B4455;\n",
              "      fill: #D2E3FC;\n",
              "    }\n",
              "\n",
              "    [theme=dark] .colab-df-convert:hover {\n",
              "      background-color: #434B5C;\n",
              "      box-shadow: 0px 1px 3px 1px rgba(0, 0, 0, 0.15);\n",
              "      filter: drop-shadow(0px 1px 2px rgba(0, 0, 0, 0.3));\n",
              "      fill: #FFFFFF;\n",
              "    }\n",
              "  </style>\n",
              "\n",
              "    <script>\n",
              "      const buttonEl =\n",
              "        document.querySelector('#df-07a5de08-6a80-4480-b166-0fd1c5627286 button.colab-df-convert');\n",
              "      buttonEl.style.display =\n",
              "        google.colab.kernel.accessAllowed ? 'block' : 'none';\n",
              "\n",
              "      async function convertToInteractive(key) {\n",
              "        const element = document.querySelector('#df-07a5de08-6a80-4480-b166-0fd1c5627286');\n",
              "        const dataTable =\n",
              "          await google.colab.kernel.invokeFunction('convertToInteractive',\n",
              "                                                    [key], {});\n",
              "        if (!dataTable) return;\n",
              "\n",
              "        const docLinkHtml = 'Like what you see? Visit the ' +\n",
              "          '<a target=\"_blank\" href=https://colab.research.google.com/notebooks/data_table.ipynb>data table notebook</a>'\n",
              "          + ' to learn more about interactive tables.';\n",
              "        element.innerHTML = '';\n",
              "        dataTable['output_type'] = 'display_data';\n",
              "        await google.colab.output.renderOutput(dataTable, element);\n",
              "        const docLink = document.createElement('div');\n",
              "        docLink.innerHTML = docLinkHtml;\n",
              "        element.appendChild(docLink);\n",
              "      }\n",
              "    </script>\n",
              "  </div>\n",
              "\n",
              "\n",
              "    <div id=\"df-2104da07-d79d-4832-92c0-a2ad2eac40bf\">\n",
              "      <button class=\"colab-df-quickchart\" onclick=\"quickchart('df-2104da07-d79d-4832-92c0-a2ad2eac40bf')\"\n",
              "                title=\"Suggest charts\"\n",
              "                style=\"display:none;\">\n",
              "\n",
              "<svg xmlns=\"http://www.w3.org/2000/svg\" height=\"24px\"viewBox=\"0 0 24 24\"\n",
              "     width=\"24px\">\n",
              "    <g>\n",
              "        <path d=\"M19 3H5c-1.1 0-2 .9-2 2v14c0 1.1.9 2 2 2h14c1.1 0 2-.9 2-2V5c0-1.1-.9-2-2-2zM9 17H7v-7h2v7zm4 0h-2V7h2v10zm4 0h-2v-4h2v4z\"/>\n",
              "    </g>\n",
              "</svg>\n",
              "      </button>\n",
              "\n",
              "<style>\n",
              "  .colab-df-quickchart {\n",
              "      --bg-color: #E8F0FE;\n",
              "      --fill-color: #1967D2;\n",
              "      --hover-bg-color: #E2EBFA;\n",
              "      --hover-fill-color: #174EA6;\n",
              "      --disabled-fill-color: #AAA;\n",
              "      --disabled-bg-color: #DDD;\n",
              "  }\n",
              "\n",
              "  [theme=dark] .colab-df-quickchart {\n",
              "      --bg-color: #3B4455;\n",
              "      --fill-color: #D2E3FC;\n",
              "      --hover-bg-color: #434B5C;\n",
              "      --hover-fill-color: #FFFFFF;\n",
              "      --disabled-bg-color: #3B4455;\n",
              "      --disabled-fill-color: #666;\n",
              "  }\n",
              "\n",
              "  .colab-df-quickchart {\n",
              "    background-color: var(--bg-color);\n",
              "    border: none;\n",
              "    border-radius: 50%;\n",
              "    cursor: pointer;\n",
              "    display: none;\n",
              "    fill: var(--fill-color);\n",
              "    height: 32px;\n",
              "    padding: 0;\n",
              "    width: 32px;\n",
              "  }\n",
              "\n",
              "  .colab-df-quickchart:hover {\n",
              "    background-color: var(--hover-bg-color);\n",
              "    box-shadow: 0 1px 2px rgba(60, 64, 67, 0.3), 0 1px 3px 1px rgba(60, 64, 67, 0.15);\n",
              "    fill: var(--button-hover-fill-color);\n",
              "  }\n",
              "\n",
              "  .colab-df-quickchart-complete:disabled,\n",
              "  .colab-df-quickchart-complete:disabled:hover {\n",
              "    background-color: var(--disabled-bg-color);\n",
              "    fill: var(--disabled-fill-color);\n",
              "    box-shadow: none;\n",
              "  }\n",
              "\n",
              "  .colab-df-spinner {\n",
              "    border: 2px solid var(--fill-color);\n",
              "    border-color: transparent;\n",
              "    border-bottom-color: var(--fill-color);\n",
              "    animation:\n",
              "      spin 1s steps(1) infinite;\n",
              "  }\n",
              "\n",
              "  @keyframes spin {\n",
              "    0% {\n",
              "      border-color: transparent;\n",
              "      border-bottom-color: var(--fill-color);\n",
              "      border-left-color: var(--fill-color);\n",
              "    }\n",
              "    20% {\n",
              "      border-color: transparent;\n",
              "      border-left-color: var(--fill-color);\n",
              "      border-top-color: var(--fill-color);\n",
              "    }\n",
              "    30% {\n",
              "      border-color: transparent;\n",
              "      border-left-color: var(--fill-color);\n",
              "      border-top-color: var(--fill-color);\n",
              "      border-right-color: var(--fill-color);\n",
              "    }\n",
              "    40% {\n",
              "      border-color: transparent;\n",
              "      border-right-color: var(--fill-color);\n",
              "      border-top-color: var(--fill-color);\n",
              "    }\n",
              "    60% {\n",
              "      border-color: transparent;\n",
              "      border-right-color: var(--fill-color);\n",
              "    }\n",
              "    80% {\n",
              "      border-color: transparent;\n",
              "      border-right-color: var(--fill-color);\n",
              "      border-bottom-color: var(--fill-color);\n",
              "    }\n",
              "    90% {\n",
              "      border-color: transparent;\n",
              "      border-bottom-color: var(--fill-color);\n",
              "    }\n",
              "  }\n",
              "</style>\n",
              "\n",
              "      <script>\n",
              "        async function quickchart(key) {\n",
              "          const quickchartButtonEl =\n",
              "            document.querySelector('#' + key + ' button');\n",
              "          quickchartButtonEl.disabled = true;  // To prevent multiple clicks.\n",
              "          quickchartButtonEl.classList.add('colab-df-spinner');\n",
              "          try {\n",
              "            const charts = await google.colab.kernel.invokeFunction(\n",
              "                'suggestCharts', [key], {});\n",
              "          } catch (error) {\n",
              "            console.error('Error during call to suggestCharts:', error);\n",
              "          }\n",
              "          quickchartButtonEl.classList.remove('colab-df-spinner');\n",
              "          quickchartButtonEl.classList.add('colab-df-quickchart-complete');\n",
              "        }\n",
              "        (() => {\n",
              "          let quickchartButtonEl =\n",
              "            document.querySelector('#df-2104da07-d79d-4832-92c0-a2ad2eac40bf button');\n",
              "          quickchartButtonEl.style.display =\n",
              "            google.colab.kernel.accessAllowed ? 'block' : 'none';\n",
              "        })();\n",
              "      </script>\n",
              "    </div>\n",
              "\n",
              "    </div>\n",
              "  </div>\n"
            ],
            "application/vnd.google.colaboratory.intrinsic+json": {
              "type": "dataframe",
              "summary": "{\n  \"name\": \"df\",\n  \"rows\": 5,\n  \"fields\": [\n    {\n      \"column\": \"Area (sqft)\",\n      \"properties\": {\n        \"dtype\": \"number\",\n        \"std\": 392,\n        \"min\": 1894,\n        \"max\": 2769,\n        \"num_unique_values\": 5,\n        \"samples\": [\n          2735,\n          2769,\n          2238\n        ],\n        \"semantic_type\": \"\",\n        \"description\": \"\"\n      }\n    },\n    {\n      \"column\": \"Bedrooms\",\n      \"properties\": {\n        \"dtype\": \"number\",\n        \"std\": 0,\n        \"min\": 2,\n        \"max\": 4,\n        \"num_unique_values\": 3,\n        \"samples\": [\n          3,\n          4,\n          2\n        ],\n        \"semantic_type\": \"\",\n        \"description\": \"\"\n      }\n    },\n    {\n      \"column\": \"Location Score\",\n      \"properties\": {\n        \"dtype\": \"number\",\n        \"std\": 2.5304149857286253,\n        \"min\": 4.1,\n        \"max\": 9.7,\n        \"num_unique_values\": 5,\n        \"samples\": [\n          5.0,\n          5.4,\n          4.1\n        ],\n        \"semantic_type\": \"\",\n        \"description\": \"\"\n      }\n    },\n    {\n      \"column\": \"Price (Lakhs)\",\n      \"properties\": {\n        \"dtype\": \"number\",\n        \"std\": 34.4006976673439,\n        \"min\": 267.9,\n        \"max\": 343.9,\n        \"num_unique_values\": 5,\n        \"samples\": [\n          328.5,\n          343.9,\n          284.3\n        ],\n        \"semantic_type\": \"\",\n        \"description\": \"\"\n      }\n    }\n  ]\n}"
            }
          },
          "metadata": {},
          "execution_count": 2
        }
      ]
    },
    {
      "cell_type": "code",
      "source": [
        "df.drop('Price (Lakhs)',axis='columns')"
      ],
      "metadata": {
        "colab": {
          "base_uri": "https://localhost:8080/",
          "height": 833
        },
        "id": "42i9vM2Mg96O",
        "outputId": "9bb6ae29-d083-48e3-c541-64641eafe16f"
      },
      "execution_count": 6,
      "outputs": [
        {
          "output_type": "execute_result",
          "data": {
            "text/plain": [
              "    Area (sqft)  Bedrooms  Location Score\n",
              "0          1460         3             4.1\n",
              "1          1894         3             9.7\n",
              "2          1730         2             7.4\n",
              "3          1695         4             6.3\n",
              "4          2238         4             4.1\n",
              "5          2769         4             5.4\n",
              "6          1066         4             5.4\n",
              "7          1838         3             8.1\n",
              "8           930         2             7.7\n",
              "9          2082         2             9.0\n",
              "10         2735         3             5.0\n",
              "11          730         2             6.3\n",
              "12         2285         3             5.1\n",
              "13         1369         4             8.5\n",
              "14         2991         3             6.6\n",
              "15         2115         4             5.2\n",
              "16         1815         4             7.4\n",
              "17         1555         1             4.2\n",
              "18         2924         3             9.1\n",
              "19         1784         1             6.7\n",
              "20         1059         3             6.4\n",
              "21          621         3             9.6\n",
              "22         2900         1             8.4\n",
              "23         1347         1             6.0\n",
              "24         1074         3             7.4"
            ],
            "text/html": [
              "\n",
              "  <div id=\"df-afe68309-3cb1-44b4-9d6d-34da50855980\" class=\"colab-df-container\">\n",
              "    <div>\n",
              "<style scoped>\n",
              "    .dataframe tbody tr th:only-of-type {\n",
              "        vertical-align: middle;\n",
              "    }\n",
              "\n",
              "    .dataframe tbody tr th {\n",
              "        vertical-align: top;\n",
              "    }\n",
              "\n",
              "    .dataframe thead th {\n",
              "        text-align: right;\n",
              "    }\n",
              "</style>\n",
              "<table border=\"1\" class=\"dataframe\">\n",
              "  <thead>\n",
              "    <tr style=\"text-align: right;\">\n",
              "      <th></th>\n",
              "      <th>Area (sqft)</th>\n",
              "      <th>Bedrooms</th>\n",
              "      <th>Location Score</th>\n",
              "    </tr>\n",
              "  </thead>\n",
              "  <tbody>\n",
              "    <tr>\n",
              "      <th>0</th>\n",
              "      <td>1460</td>\n",
              "      <td>3</td>\n",
              "      <td>4.1</td>\n",
              "    </tr>\n",
              "    <tr>\n",
              "      <th>1</th>\n",
              "      <td>1894</td>\n",
              "      <td>3</td>\n",
              "      <td>9.7</td>\n",
              "    </tr>\n",
              "    <tr>\n",
              "      <th>2</th>\n",
              "      <td>1730</td>\n",
              "      <td>2</td>\n",
              "      <td>7.4</td>\n",
              "    </tr>\n",
              "    <tr>\n",
              "      <th>3</th>\n",
              "      <td>1695</td>\n",
              "      <td>4</td>\n",
              "      <td>6.3</td>\n",
              "    </tr>\n",
              "    <tr>\n",
              "      <th>4</th>\n",
              "      <td>2238</td>\n",
              "      <td>4</td>\n",
              "      <td>4.1</td>\n",
              "    </tr>\n",
              "    <tr>\n",
              "      <th>5</th>\n",
              "      <td>2769</td>\n",
              "      <td>4</td>\n",
              "      <td>5.4</td>\n",
              "    </tr>\n",
              "    <tr>\n",
              "      <th>6</th>\n",
              "      <td>1066</td>\n",
              "      <td>4</td>\n",
              "      <td>5.4</td>\n",
              "    </tr>\n",
              "    <tr>\n",
              "      <th>7</th>\n",
              "      <td>1838</td>\n",
              "      <td>3</td>\n",
              "      <td>8.1</td>\n",
              "    </tr>\n",
              "    <tr>\n",
              "      <th>8</th>\n",
              "      <td>930</td>\n",
              "      <td>2</td>\n",
              "      <td>7.7</td>\n",
              "    </tr>\n",
              "    <tr>\n",
              "      <th>9</th>\n",
              "      <td>2082</td>\n",
              "      <td>2</td>\n",
              "      <td>9.0</td>\n",
              "    </tr>\n",
              "    <tr>\n",
              "      <th>10</th>\n",
              "      <td>2735</td>\n",
              "      <td>3</td>\n",
              "      <td>5.0</td>\n",
              "    </tr>\n",
              "    <tr>\n",
              "      <th>11</th>\n",
              "      <td>730</td>\n",
              "      <td>2</td>\n",
              "      <td>6.3</td>\n",
              "    </tr>\n",
              "    <tr>\n",
              "      <th>12</th>\n",
              "      <td>2285</td>\n",
              "      <td>3</td>\n",
              "      <td>5.1</td>\n",
              "    </tr>\n",
              "    <tr>\n",
              "      <th>13</th>\n",
              "      <td>1369</td>\n",
              "      <td>4</td>\n",
              "      <td>8.5</td>\n",
              "    </tr>\n",
              "    <tr>\n",
              "      <th>14</th>\n",
              "      <td>2991</td>\n",
              "      <td>3</td>\n",
              "      <td>6.6</td>\n",
              "    </tr>\n",
              "    <tr>\n",
              "      <th>15</th>\n",
              "      <td>2115</td>\n",
              "      <td>4</td>\n",
              "      <td>5.2</td>\n",
              "    </tr>\n",
              "    <tr>\n",
              "      <th>16</th>\n",
              "      <td>1815</td>\n",
              "      <td>4</td>\n",
              "      <td>7.4</td>\n",
              "    </tr>\n",
              "    <tr>\n",
              "      <th>17</th>\n",
              "      <td>1555</td>\n",
              "      <td>1</td>\n",
              "      <td>4.2</td>\n",
              "    </tr>\n",
              "    <tr>\n",
              "      <th>18</th>\n",
              "      <td>2924</td>\n",
              "      <td>3</td>\n",
              "      <td>9.1</td>\n",
              "    </tr>\n",
              "    <tr>\n",
              "      <th>19</th>\n",
              "      <td>1784</td>\n",
              "      <td>1</td>\n",
              "      <td>6.7</td>\n",
              "    </tr>\n",
              "    <tr>\n",
              "      <th>20</th>\n",
              "      <td>1059</td>\n",
              "      <td>3</td>\n",
              "      <td>6.4</td>\n",
              "    </tr>\n",
              "    <tr>\n",
              "      <th>21</th>\n",
              "      <td>621</td>\n",
              "      <td>3</td>\n",
              "      <td>9.6</td>\n",
              "    </tr>\n",
              "    <tr>\n",
              "      <th>22</th>\n",
              "      <td>2900</td>\n",
              "      <td>1</td>\n",
              "      <td>8.4</td>\n",
              "    </tr>\n",
              "    <tr>\n",
              "      <th>23</th>\n",
              "      <td>1347</td>\n",
              "      <td>1</td>\n",
              "      <td>6.0</td>\n",
              "    </tr>\n",
              "    <tr>\n",
              "      <th>24</th>\n",
              "      <td>1074</td>\n",
              "      <td>3</td>\n",
              "      <td>7.4</td>\n",
              "    </tr>\n",
              "  </tbody>\n",
              "</table>\n",
              "</div>\n",
              "    <div class=\"colab-df-buttons\">\n",
              "\n",
              "  <div class=\"colab-df-container\">\n",
              "    <button class=\"colab-df-convert\" onclick=\"convertToInteractive('df-afe68309-3cb1-44b4-9d6d-34da50855980')\"\n",
              "            title=\"Convert this dataframe to an interactive table.\"\n",
              "            style=\"display:none;\">\n",
              "\n",
              "  <svg xmlns=\"http://www.w3.org/2000/svg\" height=\"24px\" viewBox=\"0 -960 960 960\">\n",
              "    <path d=\"M120-120v-720h720v720H120Zm60-500h600v-160H180v160Zm220 220h160v-160H400v160Zm0 220h160v-160H400v160ZM180-400h160v-160H180v160Zm440 0h160v-160H620v160ZM180-180h160v-160H180v160Zm440 0h160v-160H620v160Z\"/>\n",
              "  </svg>\n",
              "    </button>\n",
              "\n",
              "  <style>\n",
              "    .colab-df-container {\n",
              "      display:flex;\n",
              "      gap: 12px;\n",
              "    }\n",
              "\n",
              "    .colab-df-convert {\n",
              "      background-color: #E8F0FE;\n",
              "      border: none;\n",
              "      border-radius: 50%;\n",
              "      cursor: pointer;\n",
              "      display: none;\n",
              "      fill: #1967D2;\n",
              "      height: 32px;\n",
              "      padding: 0 0 0 0;\n",
              "      width: 32px;\n",
              "    }\n",
              "\n",
              "    .colab-df-convert:hover {\n",
              "      background-color: #E2EBFA;\n",
              "      box-shadow: 0px 1px 2px rgba(60, 64, 67, 0.3), 0px 1px 3px 1px rgba(60, 64, 67, 0.15);\n",
              "      fill: #174EA6;\n",
              "    }\n",
              "\n",
              "    .colab-df-buttons div {\n",
              "      margin-bottom: 4px;\n",
              "    }\n",
              "\n",
              "    [theme=dark] .colab-df-convert {\n",
              "      background-color: #3B4455;\n",
              "      fill: #D2E3FC;\n",
              "    }\n",
              "\n",
              "    [theme=dark] .colab-df-convert:hover {\n",
              "      background-color: #434B5C;\n",
              "      box-shadow: 0px 1px 3px 1px rgba(0, 0, 0, 0.15);\n",
              "      filter: drop-shadow(0px 1px 2px rgba(0, 0, 0, 0.3));\n",
              "      fill: #FFFFFF;\n",
              "    }\n",
              "  </style>\n",
              "\n",
              "    <script>\n",
              "      const buttonEl =\n",
              "        document.querySelector('#df-afe68309-3cb1-44b4-9d6d-34da50855980 button.colab-df-convert');\n",
              "      buttonEl.style.display =\n",
              "        google.colab.kernel.accessAllowed ? 'block' : 'none';\n",
              "\n",
              "      async function convertToInteractive(key) {\n",
              "        const element = document.querySelector('#df-afe68309-3cb1-44b4-9d6d-34da50855980');\n",
              "        const dataTable =\n",
              "          await google.colab.kernel.invokeFunction('convertToInteractive',\n",
              "                                                    [key], {});\n",
              "        if (!dataTable) return;\n",
              "\n",
              "        const docLinkHtml = 'Like what you see? Visit the ' +\n",
              "          '<a target=\"_blank\" href=https://colab.research.google.com/notebooks/data_table.ipynb>data table notebook</a>'\n",
              "          + ' to learn more about interactive tables.';\n",
              "        element.innerHTML = '';\n",
              "        dataTable['output_type'] = 'display_data';\n",
              "        await google.colab.output.renderOutput(dataTable, element);\n",
              "        const docLink = document.createElement('div');\n",
              "        docLink.innerHTML = docLinkHtml;\n",
              "        element.appendChild(docLink);\n",
              "      }\n",
              "    </script>\n",
              "  </div>\n",
              "\n",
              "\n",
              "    <div id=\"df-5283d769-5fbc-4def-a406-11a2c9c7d88e\">\n",
              "      <button class=\"colab-df-quickchart\" onclick=\"quickchart('df-5283d769-5fbc-4def-a406-11a2c9c7d88e')\"\n",
              "                title=\"Suggest charts\"\n",
              "                style=\"display:none;\">\n",
              "\n",
              "<svg xmlns=\"http://www.w3.org/2000/svg\" height=\"24px\"viewBox=\"0 0 24 24\"\n",
              "     width=\"24px\">\n",
              "    <g>\n",
              "        <path d=\"M19 3H5c-1.1 0-2 .9-2 2v14c0 1.1.9 2 2 2h14c1.1 0 2-.9 2-2V5c0-1.1-.9-2-2-2zM9 17H7v-7h2v7zm4 0h-2V7h2v10zm4 0h-2v-4h2v4z\"/>\n",
              "    </g>\n",
              "</svg>\n",
              "      </button>\n",
              "\n",
              "<style>\n",
              "  .colab-df-quickchart {\n",
              "      --bg-color: #E8F0FE;\n",
              "      --fill-color: #1967D2;\n",
              "      --hover-bg-color: #E2EBFA;\n",
              "      --hover-fill-color: #174EA6;\n",
              "      --disabled-fill-color: #AAA;\n",
              "      --disabled-bg-color: #DDD;\n",
              "  }\n",
              "\n",
              "  [theme=dark] .colab-df-quickchart {\n",
              "      --bg-color: #3B4455;\n",
              "      --fill-color: #D2E3FC;\n",
              "      --hover-bg-color: #434B5C;\n",
              "      --hover-fill-color: #FFFFFF;\n",
              "      --disabled-bg-color: #3B4455;\n",
              "      --disabled-fill-color: #666;\n",
              "  }\n",
              "\n",
              "  .colab-df-quickchart {\n",
              "    background-color: var(--bg-color);\n",
              "    border: none;\n",
              "    border-radius: 50%;\n",
              "    cursor: pointer;\n",
              "    display: none;\n",
              "    fill: var(--fill-color);\n",
              "    height: 32px;\n",
              "    padding: 0;\n",
              "    width: 32px;\n",
              "  }\n",
              "\n",
              "  .colab-df-quickchart:hover {\n",
              "    background-color: var(--hover-bg-color);\n",
              "    box-shadow: 0 1px 2px rgba(60, 64, 67, 0.3), 0 1px 3px 1px rgba(60, 64, 67, 0.15);\n",
              "    fill: var(--button-hover-fill-color);\n",
              "  }\n",
              "\n",
              "  .colab-df-quickchart-complete:disabled,\n",
              "  .colab-df-quickchart-complete:disabled:hover {\n",
              "    background-color: var(--disabled-bg-color);\n",
              "    fill: var(--disabled-fill-color);\n",
              "    box-shadow: none;\n",
              "  }\n",
              "\n",
              "  .colab-df-spinner {\n",
              "    border: 2px solid var(--fill-color);\n",
              "    border-color: transparent;\n",
              "    border-bottom-color: var(--fill-color);\n",
              "    animation:\n",
              "      spin 1s steps(1) infinite;\n",
              "  }\n",
              "\n",
              "  @keyframes spin {\n",
              "    0% {\n",
              "      border-color: transparent;\n",
              "      border-bottom-color: var(--fill-color);\n",
              "      border-left-color: var(--fill-color);\n",
              "    }\n",
              "    20% {\n",
              "      border-color: transparent;\n",
              "      border-left-color: var(--fill-color);\n",
              "      border-top-color: var(--fill-color);\n",
              "    }\n",
              "    30% {\n",
              "      border-color: transparent;\n",
              "      border-left-color: var(--fill-color);\n",
              "      border-top-color: var(--fill-color);\n",
              "      border-right-color: var(--fill-color);\n",
              "    }\n",
              "    40% {\n",
              "      border-color: transparent;\n",
              "      border-right-color: var(--fill-color);\n",
              "      border-top-color: var(--fill-color);\n",
              "    }\n",
              "    60% {\n",
              "      border-color: transparent;\n",
              "      border-right-color: var(--fill-color);\n",
              "    }\n",
              "    80% {\n",
              "      border-color: transparent;\n",
              "      border-right-color: var(--fill-color);\n",
              "      border-bottom-color: var(--fill-color);\n",
              "    }\n",
              "    90% {\n",
              "      border-color: transparent;\n",
              "      border-bottom-color: var(--fill-color);\n",
              "    }\n",
              "  }\n",
              "</style>\n",
              "\n",
              "      <script>\n",
              "        async function quickchart(key) {\n",
              "          const quickchartButtonEl =\n",
              "            document.querySelector('#' + key + ' button');\n",
              "          quickchartButtonEl.disabled = true;  // To prevent multiple clicks.\n",
              "          quickchartButtonEl.classList.add('colab-df-spinner');\n",
              "          try {\n",
              "            const charts = await google.colab.kernel.invokeFunction(\n",
              "                'suggestCharts', [key], {});\n",
              "          } catch (error) {\n",
              "            console.error('Error during call to suggestCharts:', error);\n",
              "          }\n",
              "          quickchartButtonEl.classList.remove('colab-df-spinner');\n",
              "          quickchartButtonEl.classList.add('colab-df-quickchart-complete');\n",
              "        }\n",
              "        (() => {\n",
              "          let quickchartButtonEl =\n",
              "            document.querySelector('#df-5283d769-5fbc-4def-a406-11a2c9c7d88e button');\n",
              "          quickchartButtonEl.style.display =\n",
              "            google.colab.kernel.accessAllowed ? 'block' : 'none';\n",
              "        })();\n",
              "      </script>\n",
              "    </div>\n",
              "\n",
              "    </div>\n",
              "  </div>\n"
            ],
            "application/vnd.google.colaboratory.intrinsic+json": {
              "type": "dataframe",
              "summary": "{\n  \"name\": \"df\",\n  \"rows\": 25,\n  \"fields\": [\n    {\n      \"column\": \"Area (sqft)\",\n      \"properties\": {\n        \"dtype\": \"number\",\n        \"std\": 701,\n        \"min\": 621,\n        \"max\": 2991,\n        \"num_unique_values\": 25,\n        \"samples\": [\n          930,\n          1815,\n          1460\n        ],\n        \"semantic_type\": \"\",\n        \"description\": \"\"\n      }\n    },\n    {\n      \"column\": \"Bedrooms\",\n      \"properties\": {\n        \"dtype\": \"number\",\n        \"std\": 1,\n        \"min\": 1,\n        \"max\": 4,\n        \"num_unique_values\": 4,\n        \"samples\": [\n          2,\n          1,\n          3\n        ],\n        \"semantic_type\": \"\",\n        \"description\": \"\"\n      }\n    },\n    {\n      \"column\": \"Location Score\",\n      \"properties\": {\n        \"dtype\": \"number\",\n        \"std\": 1.7160710940983765,\n        \"min\": 4.1,\n        \"max\": 9.7,\n        \"num_unique_values\": 20,\n        \"samples\": [\n          4.1,\n          9.6,\n          6.7\n        ],\n        \"semantic_type\": \"\",\n        \"description\": \"\"\n      }\n    }\n  ]\n}"
            }
          },
          "metadata": {},
          "execution_count": 6
        }
      ]
    },
    {
      "cell_type": "code",
      "source": [
        "# scaling to perform greate\n",
        "#BATCH GRADIENT DESCENT\n",
        "from sklearn import preprocessing\n",
        "\n",
        "sx=preprocessing.MinMaxScaler()\n",
        "sy=preprocessing.MinMaxScaler()\n",
        "\n",
        "scaled_X=sx.fit_transform(df.drop('Price (Lakhs)',axis='columns'))\n",
        "print(\"x values\\n\")\n",
        "scaled_X\n",
        "scaled_y=sy.fit_transform(df['Price (Lakhs)'].values.reshape(df.shape[0],1))\n",
        "print(\"y values \\n\")\n",
        "scaled_y\n"
      ],
      "metadata": {
        "colab": {
          "base_uri": "https://localhost:8080/"
        },
        "id": "UUGRYVXzgo-D",
        "outputId": "a44d43c1-b759-45c8-d96d-0f0a8ec44427"
      },
      "execution_count": 9,
      "outputs": [
        {
          "output_type": "stream",
          "name": "stdout",
          "text": [
            "x values\n",
            "\n",
            "y values \n",
            "\n"
          ]
        },
        {
          "output_type": "execute_result",
          "data": {
            "text/plain": [
              "array([[0.29580937],\n",
              "       [0.58915366],\n",
              "       [0.43344289],\n",
              "       [0.47863599],\n",
              "       [0.65653246],\n",
              "       [0.90139688],\n",
              "       [0.20172555],\n",
              "       [0.53327855],\n",
              "       [0.11092851],\n",
              "       [0.61092851],\n",
              "       [0.83812654],\n",
              "       [0.        ],\n",
              "       [0.65529992],\n",
              "       [0.38989318],\n",
              "       [0.97617091],\n",
              "       [0.62859491],\n",
              "       [0.5505341 ],\n",
              "       [0.25472473],\n",
              "       [1.        ],\n",
              "       [0.40016434],\n",
              "       [0.17830731],\n",
              "       [0.06409203],\n",
              "       [0.8935908 ],\n",
              "       [0.20624486],\n",
              "       [0.20501233]])"
            ]
          },
          "metadata": {},
          "execution_count": 9
        }
      ]
    },
    {
      "cell_type": "code",
      "source": [
        "w=np.ones(shape=(2))"
      ],
      "metadata": {
        "id": "XMOXims-kDMs"
      },
      "execution_count": 11,
      "outputs": []
    },
    {
      "cell_type": "code",
      "source": [
        "scaled_X.T"
      ],
      "metadata": {
        "colab": {
          "base_uri": "https://localhost:8080/"
        },
        "id": "rGU7MbbnkRVN",
        "outputId": "4ef7ca8e-7cd4-4f9a-ed6f-e65327afe64c"
      },
      "execution_count": 12,
      "outputs": [
        {
          "output_type": "execute_result",
          "data": {
            "text/plain": [
              "array([[0.35400844, 0.5371308 , 0.46793249, 0.45316456, 0.68227848,\n",
              "        0.90632911, 0.18776371, 0.51350211, 0.13037975, 0.6164557 ,\n",
              "        0.89198312, 0.04599156, 0.7021097 , 0.31561181, 1.        ,\n",
              "        0.63037975, 0.50379747, 0.39409283, 0.97172996, 0.4907173 ,\n",
              "        0.18481013, 0.        , 0.96160338, 0.30632911, 0.19113924],\n",
              "       [0.66666667, 0.66666667, 0.33333333, 1.        , 1.        ,\n",
              "        1.        , 1.        , 0.66666667, 0.33333333, 0.33333333,\n",
              "        0.66666667, 0.33333333, 0.66666667, 1.        , 0.66666667,\n",
              "        1.        , 1.        , 0.        , 0.66666667, 0.        ,\n",
              "        0.66666667, 0.66666667, 0.        , 0.        , 0.66666667],\n",
              "       [0.        , 1.        , 0.58928571, 0.39285714, 0.        ,\n",
              "        0.23214286, 0.23214286, 0.71428571, 0.64285714, 0.875     ,\n",
              "        0.16071429, 0.39285714, 0.17857143, 0.78571429, 0.44642857,\n",
              "        0.19642857, 0.58928571, 0.01785714, 0.89285714, 0.46428571,\n",
              "        0.41071429, 0.98214286, 0.76785714, 0.33928571, 0.58928571]])"
            ]
          },
          "metadata": {},
          "execution_count": 12
        }
      ]
    },
    {
      "cell_type": "code",
      "source": [
        "w = np.array([0.1, 10, 5])  # ✅ Ensure this matches number of features\n",
        "np.dot(scaled_X, w)         # ✅ No shape mismatch error now\n",
        "\n",
        "\n"
      ],
      "metadata": {
        "colab": {
          "base_uri": "https://localhost:8080/"
        },
        "id": "H_FNULrxkDF1",
        "outputId": "7bc78a9e-34ee-4cc4-9730-3df8afdbe74b"
      },
      "execution_count": 17,
      "outputs": [
        {
          "output_type": "execute_result",
          "data": {
            "text/plain": [
              "array([ 6.70206751, 11.72037975,  6.32655515, 12.00960217, 10.06822785,\n",
              "       11.2513472 , 11.17949066, 10.28944545,  6.56065702,  7.7699789 ,\n",
              "        7.55943641,  5.3022182 ,  7.62973478, 13.96013261,  8.99880952,\n",
              "       11.04518083, 12.99680832,  0.128695  , 11.22812538,  2.3705003 ,\n",
              "        8.73871911, 11.57738095,  3.93544605,  1.72706148,  9.63220916])"
            ]
          },
          "metadata": {},
          "execution_count": 17
        }
      ]
    },
    {
      "cell_type": "code",
      "source": [
        "a=np.array([1,2,3])\n",
        "b=np.array([10,5,7])\n",
        "a-b"
      ],
      "metadata": {
        "colab": {
          "base_uri": "https://localhost:8080/"
        },
        "id": "1fytug77mbi_",
        "outputId": "2d35b1b9-b140-47ef-a245-63c500376df5"
      },
      "execution_count": 19,
      "outputs": [
        {
          "output_type": "execute_result",
          "data": {
            "text/plain": [
              "array([-9, -3, -4])"
            ]
          },
          "metadata": {},
          "execution_count": 19
        }
      ]
    },
    {
      "cell_type": "code",
      "source": [
        "np.mean(np.square(a-b))"
      ],
      "metadata": {
        "colab": {
          "base_uri": "https://localhost:8080/"
        },
        "id": "IptJDgGimjg8",
        "outputId": "e7bc6b0d-d900-47ae-a0cf-52059c09c533"
      },
      "execution_count": 21,
      "outputs": [
        {
          "output_type": "execute_result",
          "data": {
            "text/plain": [
              "np.float64(35.333333333333336)"
            ]
          },
          "metadata": {},
          "execution_count": 21
        }
      ]
    },
    {
      "cell_type": "code",
      "source": [
        "# basically we have to find weights\n",
        "def batch_gradient_descent(X,y_true,epochs,learning_rate=0.01):\n",
        "\n",
        "  number_of_features=X.shape[1]\n",
        "\n",
        "  w=np.ones(shape=(number_of_features))\n",
        "  b=0 # bias\n",
        "  total_samples=X.shape[0]\n",
        "\n",
        "  cost_list=[]\n",
        "  epoch_list=[]\n",
        "\n",
        "  for i in range(epochs):\n",
        "    # forward propagation\n",
        "\n",
        "    y_predicted=  np.dot(scaled_X, w)+ b # w1* area + w2 *bedrooms\n",
        "\n",
        "\n",
        "    # derivative gradient descent\n",
        "    w_grad=-(2/total_samples)*(X.T.dot(y_true-y_predicted))\n",
        "    b_grad=-(2/total_samples)*np.sum(y_true-y_predicted)\n",
        "\n",
        "    # finding adjusted weights and bias\n",
        "    w=w-learning_rate * w_grad\n",
        "    b=b-learning_rate * b_grad\n",
        "\n",
        "    cost=np.mean(np.square(y_true-y_predicted))\n",
        "\n",
        "    if i%10==0:\n",
        "      cost_list.append(cost)\n",
        "      epoch_list.append(i)\n",
        "\n",
        "  return w, b, cost_list[-1], cost_list, epoch_list  # cost = final cost\n",
        "\n",
        "\n",
        "# Cleanly reshape the target and call the function\n",
        "scaled_y = scaled_y.reshape(-1)  # Ensures 1D shape (25,) from (25, 1) if needed\n",
        "\n",
        "# Run batch gradient descent for 100 epochs\n",
        "w, b, cost, cost_list, epoch_list = batch_gradient_descent(scaled_X, scaled_y, epochs=100)\n",
        "\n",
        "w,b,cost\n"
      ],
      "metadata": {
        "colab": {
          "base_uri": "https://localhost:8080/"
        },
        "id": "wQPZWdXTiG2l",
        "outputId": "b64490bb-6ef8-4955-e34c-6ba786b6761c"
      },
      "execution_count": 26,
      "outputs": [
        {
          "output_type": "execute_result",
          "data": {
            "text/plain": [
              "(array([0.76000337, 0.56500584, 0.6417759 ]),\n",
              " np.float64(-0.5368074022199358),\n",
              " np.float64(0.047832611034772016))"
            ]
          },
          "metadata": {},
          "execution_count": 26
        }
      ]
    },
    {
      "cell_type": "code",
      "source": [
        "import matplotlib.pyplot as plt\n",
        "plt.xlabel(\"Epochs\")\n",
        "plt.ylabel(\"Cost\")\n",
        "plt.plot(epoch_list,cost_list)"
      ],
      "metadata": {
        "colab": {
          "base_uri": "https://localhost:8080/",
          "height": 466
        },
        "id": "kVg4970dosmU",
        "outputId": "26f06bb1-4c4f-4be3-b6cd-a74a67af3f5b"
      },
      "execution_count": 28,
      "outputs": [
        {
          "output_type": "execute_result",
          "data": {
            "text/plain": [
              "[<matplotlib.lines.Line2D at 0x7dd106a51850>]"
            ]
          },
          "metadata": {},
          "execution_count": 28
        },
        {
          "output_type": "display_data",
          "data": {
            "text/plain": [
              "<Figure size 640x480 with 1 Axes>"
            ],
            "image/png": "[encoded data removed]"
          },
          "metadata": {}
        }
      ]
    },
    {
      "cell_type": "code",
      "source": [
        "# Assuming the original columns were ['Area', 'Bedrooms', 'Location Score']\n",
        "sx.transform([[2600, 4, 8.5]])  # ✅ 3 features\n"
      ],
      "metadata": {
        "colab": {
          "base_uri": "https://localhost:8080/"
        },
        "id": "65wKsp2_pv2k",
        "outputId": "30880e72-27c4-42a7-d4a3-d13084ec58d2"
      },
      "execution_count": 30,
      "outputs": [
        {
          "output_type": "stream",
          "name": "stderr",
          "text": [
            "/usr/local/lib/python3.11/dist-packages/sklearn/utils/validation.py:2739: UserWarning: X does not have valid feature names, but MinMaxScaler was fitted with feature names\n",
            "  warnings.warn(\n"
          ]
        },
        {
          "output_type": "execute_result",
          "data": {
            "text/plain": [
              "array([[0.8350211 , 1.        , 0.78571429]])"
            ]
          },
          "metadata": {},
          "execution_count": 30
        }
      ]
    },
    {
      "cell_type": "code",
      "source": [
        "sy.inverse_transform([[1,0]])"
      ],
      "metadata": {
        "colab": {
          "base_uri": "https://localhost:8080/"
        },
        "id": "aEnRU1iwrjQD",
        "outputId": "093ee6fb-eece-4e85-f261-d29c297206bc"
      },
      "execution_count": 32,
      "outputs": [
        {
          "output_type": "execute_result",
          "data": {
            "text/plain": [
              "array([[367.9, 124.5]])"
            ]
          },
          "metadata": {},
          "execution_count": 32
        }
      ]
    },
    {
      "cell_type": "code",
      "source": [
        "# Prediction function\n",
        "def predict(area, bedrooms, loc_score, w, b):\n",
        "    # Step 1: Scale the input features using the same scaler (sx)\n",
        "    scaled_X = sx.transform([[area, bedrooms, loc_score]])  # 3 features\n",
        "\n",
        "    # Step 2: Predict scaled price using weights and bias\n",
        "    scaled_price = np.dot(scaled_X[0], w) + b\n",
        "\n",
        "    # Step 3: Inverse transform the scaled price to original scale\n",
        "    return sy.inverse_transform([[scaled_price]])[0][0]  # return single float\n",
        "\n",
        "\n",
        "\n",
        "predict(2600, 4, 8.5, w, b)\n",
        "\n"
      ],
      "metadata": {
        "colab": {
          "base_uri": "https://localhost:8080/"
        },
        "id": "GvxHrPrmpOPS",
        "outputId": "edef5adf-15e8-4d22-941e-a0954901d964"
      },
      "execution_count": 35,
      "outputs": [
        {
          "output_type": "stream",
          "name": "stderr",
          "text": [
            "/usr/local/lib/python3.11/dist-packages/sklearn/utils/validation.py:2739: UserWarning: X does not have valid feature names, but MinMaxScaler was fitted with feature names\n",
            "  warnings.warn(\n"
          ]
        },
        {
          "output_type": "execute_result",
          "data": {
            "text/plain": [
              "np.float64(408.5647830609852)"
            ]
          },
          "metadata": {},
          "execution_count": 35
        }
      ]
    },
    {
      "cell_type": "code",
      "source": [
        "predict(1000, 2, 8.5, w, b)\n"
      ],
      "metadata": {
        "colab": {
          "base_uri": "https://localhost:8080/"
        },
        "id": "CONO1szSsDNj",
        "outputId": "7a07098b-7712-46fe-ad42-64bb808778fc"
      },
      "execution_count": 36,
      "outputs": [
        {
          "output_type": "stream",
          "name": "stderr",
          "text": [
            "/usr/local/lib/python3.11/dist-packages/sklearn/utils/validation.py:2739: UserWarning: X does not have valid feature names, but MinMaxScaler was fitted with feature names\n",
            "  warnings.warn(\n"
          ]
        },
        {
          "output_type": "execute_result",
          "data": {
            "text/plain": [
              "np.float64(191.99890290320872)"
            ]
          },
          "metadata": {},
          "execution_count": 36
        }
      ]
    },
    {
      "cell_type": "code",
      "source": [
        "import random\n",
        "random.randint(0,6)"
      ],
      "metadata": {
        "colab": {
          "base_uri": "https://localhost:8080/"
        },
        "id": "Rn26eDlztccm",
        "outputId": "db6aa713-10fb-4dfd-d45a-ec1eb282ec21"
      },
      "execution_count": 37,
      "outputs": [
        {
          "output_type": "execute_result",
          "data": {
            "text/plain": [
              "4"
            ]
          },
          "metadata": {},
          "execution_count": 37
        }
      ]
    },
    {
      "cell_type": "code",
      "source": [
        "def stochastic_gradient_descent(X,y_true,epochs,learning_rate=0.01):\n",
        "\n",
        "  number_of_features=X.shape[1]\n",
        "\n",
        "  w=np.ones(shape=(number_of_features))\n",
        "  b=0 # bias\n",
        "  total_samples=X.shape[0]\n",
        "\n",
        "  cost_list=[]\n",
        "  epoch_list=[]\n",
        "\n",
        "  for i in range(epochs):\n",
        "    random_index=random.randint(0,total_samples-1)\n",
        "    sample_x=X[random_index]\n",
        "    sample_y=y_true[random_index]\n",
        "    y_predicted=np.dot(w,sample_x.T)+b\n",
        "\n",
        "    w_grad=-(2/total_samples)*(sample_x.T.dot(sample_y-y_predicted))\n",
        "    b_grad=-(2/total_samples)*(sample_y-y_predicted)\n",
        "\n",
        "    w=w-learning_rate * w_grad\n",
        "    b=b-learning_rate * b_grad\n",
        "\n",
        "    cost=np.mean(np.square(y_true-y_predicted))\n",
        "\n",
        "    if i%100==0:\n",
        "      cost_list.append(cost)\n",
        "      epoch_list.append(i)\n",
        "\n",
        "  return w, b, cost_list[-1], cost_list, epoch_list  # cost = final cost\n",
        "\n",
        "w_sgd, b_sgd, cost_sgd, cost_list_sgd, epoch_list_sgd = stochastic_gradient_descent(scaled_X, scaled_y, epochs=1000)\n",
        "\n",
        "w_sgd, b_sgd, cost_sgd\n",
        "\n",
        "\n"
      ],
      "metadata": {
        "colab": {
          "base_uri": "https://localhost:8080/"
        },
        "id": "IpOVcG26sQR0",
        "outputId": "e79449be-1f94-45f0-cb93-a895640959cb"
      },
      "execution_count": 38,
      "outputs": [
        {
          "output_type": "execute_result",
          "data": {
            "text/plain": [
              "(array([0.78665595, 0.68595419, 0.75533518]),\n",
              " np.float64(-0.43337541939988944),\n",
              " np.float64(0.10552024375508168))"
            ]
          },
          "metadata": {},
          "execution_count": 38
        }
      ]
    },
    {
      "cell_type": "code",
      "source": [
        "# comparison of values\n",
        "\n",
        "w,b,cost"
      ],
      "metadata": {
        "colab": {
          "base_uri": "https://localhost:8080/"
        },
        "id": "xGOoHwqStZJT",
        "outputId": "1bc41bf4-0156-493b-c52c-fd86b4bd2784"
      },
      "execution_count": 39,
      "outputs": [
        {
          "output_type": "execute_result",
          "data": {
            "text/plain": [
              "(array([0.76000337, 0.56500584, 0.6417759 ]),\n",
              " np.float64(-0.5368074022199358),\n",
              " np.float64(0.047832611034772016))"
            ]
          },
          "metadata": {},
          "execution_count": 39
        }
      ]
    },
    {
      "cell_type": "code",
      "source": [
        "plt.xlabel(\"Epochs\")\n",
        "plt.ylabel(\"Cost\")\n",
        "plt.plot(epoch_list_sgd,cost_list_sgd)"
      ],
      "metadata": {
        "colab": {
          "base_uri": "https://localhost:8080/",
          "height": 466
        },
        "id": "YDqGoGi-um5h",
        "outputId": "6f7d7a94-64cc-4b2d-b0df-b7474639cb14"
      },
      "execution_count": 41,
      "outputs": [
        {
          "output_type": "execute_result",
          "data": {
            "text/plain": [
              "[<matplotlib.lines.Line2D at 0x7dd1040ee5d0>]"
            ]
          },
          "metadata": {},
          "execution_count": 41
        },
        {
          "output_type": "display_data",
          "data": {
            "text/plain": [
              "<Figure size 640x480 with 1 Axes>"
            ],
            "image/png": "[encoded data removed]"
          },
          "metadata": {}
        }
      ]
    },
    {
      "cell_type": "code",
      "source": [
        "predict(2600, 4, 8.5, w, b)\n"
      ],
      "metadata": {
        "colab": {
          "base_uri": "https://localhost:8080/"
        },
        "id": "1vuC1PKlu0QO",
        "outputId": "2fa92ca6-7661-43a1-a0aa-8796ef098895"
      },
      "execution_count": 44,
      "outputs": [
        {
          "output_type": "stream",
          "name": "stderr",
          "text": [
            "/usr/local/lib/python3.11/dist-packages/sklearn/utils/validation.py:2739: UserWarning: X does not have valid feature names, but MinMaxScaler was fitted with feature names\n",
            "  warnings.warn(\n"
          ]
        },
        {
          "output_type": "execute_result",
          "data": {
            "text/plain": [
              "np.float64(408.5647830609852)"
            ]
          },
          "metadata": {},
          "execution_count": 44
        }
      ]
    },
    {
      "cell_type": "code",
      "source": [
        "def stochastic_gradient_descent(X,y_true,epochs,learning_rate=0.01):\n",
        "\n",
        "  number_of_features=X.shape[1]\n",
        "\n",
        "  w=np.ones(shape=(number_of_features))\n",
        "  b=0 # bias\n",
        "  total_samples=X.shape[0]\n",
        "\n",
        "  cost_list=[]\n",
        "  epoch_list=[]\n",
        "\n",
        "  for i in range(epochs):\n",
        "    random_index=random.randint(0,total_samples-1)\n",
        "    sample_x=X[random_index]\n",
        "    sample_y=y_true[random_index]\n",
        "    y_predicted=np.dot(w,sample_x.T)+b\n",
        "\n",
        "    w_grad=-(2/total_samples)*(sample_x.T.dot(sample_y-y_predicted))\n",
        "    b_grad=-(2/total_samples)*(sample_y-y_predicted)\n",
        "\n",
        "    w=w-learning_rate * w_grad\n",
        "    b=b-learning_rate * b_grad\n",
        "\n",
        "    cost=np.mean(np.square(y_true-y_predicted))\n",
        "\n",
        "    if i%100==0:\n",
        "      cost_list.append(cost)\n",
        "      epoch_list.append(i)\n",
        "\n",
        "  return w, b, cost_list[-1], cost_list, epoch_list  # cost = final cost\n",
        "\n",
        "w_sgd, b_sgd, cost_sgd, cost_list_sgd, epoch_list_sgd = stochastic_gradient_descent(scaled_X, scaled_y, epochs=1000)\n",
        "\n",
        "w_sgd, b_sgd, cost_sgd\n"
      ],
      "metadata": {
        "colab": {
          "base_uri": "https://localhost:8080/"
        },
        "id": "p_u3xgkwvK0D",
        "outputId": "a7e75de9-086d-48e7-ad71-2daa0132096a"
      },
      "execution_count": 45,
      "outputs": [
        {
          "output_type": "execute_result",
          "data": {
            "text/plain": [
              "(array([0.78312402, 0.67280861, 0.74790005]),\n",
              " np.float64(-0.4424325808107349),\n",
              " np.float64(0.11154160887104071))"
            ]
          },
          "metadata": {},
          "execution_count": 45
        }
      ]
    },
    {
      "cell_type": "code",
      "source": [
        "# MINI BATCH GRADIENT DESCENT\n",
        "np.random.permutation(20)"
      ],
      "metadata": {
        "colab": {
          "base_uri": "https://localhost:8080/"
        },
        "id": "o5ioSciqvv_a",
        "outputId": "cf7e8038-3ddc-4506-a3ae-40beb8796eca"
      },
      "execution_count": 46,
      "outputs": [
        {
          "output_type": "execute_result",
          "data": {
            "text/plain": [
              "array([ 3, 13, 15,  2, 18,  5, 12, 10, 19,  1,  7, 14, 16, 11,  8, 17,  6,\n",
              "        9,  4,  0])"
            ]
          },
          "metadata": {},
          "execution_count": 46
        }
      ]
    },
    {
      "cell_type": "code",
      "source": [
        "\n",
        "def mini_batch_gradient_descent(X, y_true, epochs = 100, batch_size = 5, learning_rate = 0.01):\n",
        "\n",
        "    number_of_features = X.shape[1]\n",
        "    # numpy array with 1 row and columns equal to number of features. In\n",
        "    # our case number_of_features = 3 (area, bedroom and age)\n",
        "    w = np.ones(shape=(number_of_features))\n",
        "    b = 0\n",
        "    total_samples = X.shape[0] # number of rows in X\n",
        "\n",
        "    if batch_size > total_samples: # In this case mini batch becomes same as batch gradient descent\n",
        "        batch_size = total_samples\n",
        "\n",
        "    cost_list = []\n",
        "    epoch_list = []\n",
        "\n",
        "    num_batches = int(total_samples/batch_size)\n",
        "\n",
        "    for i in range(epochs):\n",
        "        random_indices = np.random.permutation(total_samples)\n",
        "        X_tmp = X[random_indices]\n",
        "        y_tmp = y_true[random_indices]\n",
        "\n",
        "        for j in range(0,total_samples,batch_size):\n",
        "            Xj = X_tmp[j:j+batch_size]\n",
        "            yj = y_tmp[j:j+batch_size]\n",
        "            y_predicted = np.dot(w, Xj.T) + b\n",
        "\n",
        "            w_grad = -(2/len(Xj))*(Xj.T.dot(yj-y_predicted))\n",
        "            b_grad = -(2/len(Xj))*np.sum(yj-y_predicted)\n",
        "\n",
        "            w = w - learning_rate * w_grad\n",
        "            b = b - learning_rate * b_grad\n",
        "\n",
        "            cost = np.mean(np.square(yj-y_predicted)) # MSE (Mean Squared Error)\n",
        "\n",
        "        if i%10==0:\n",
        "            cost_list.append(cost)\n",
        "            epoch_list.append(i)\n",
        "\n",
        "    return w, b, cost, cost_list, epoch_list\n",
        "\n",
        "w, b, cost, cost_list, epoch_list = mini_batch_gradient_descent(\n",
        "    scaled_X,\n",
        "    scaled_y.reshape(scaled_y.shape[0],),\n",
        "    epochs = 120,\n",
        "    batch_size = 5\n",
        ")\n",
        "w, b, cost"
      ],
      "metadata": {
        "colab": {
          "base_uri": "https://localhost:8080/"
        },
        "id": "9qxbd6JvwDcE",
        "outputId": "e1363cad-27de-4f28-ee88-f2ade5ba7cdd"
      },
      "execution_count": 47,
      "outputs": [
        {
          "output_type": "execute_result",
          "data": {
            "text/plain": [
              "(array([0.93018562, 0.34393549, 0.39324655]),\n",
              " np.float64(-0.3867077200398805),\n",
              " np.float64(0.021995010870657045))"
            ]
          },
          "metadata": {},
          "execution_count": 47
        }
      ]
    },
    {
      "cell_type": "code",
      "source": [
        "plt.xlabel(\"epoch\")\n",
        "plt.ylabel(\"cost\")\n",
        "plt.plot(epoch_list,cost_list)"
      ],
      "metadata": {
        "colab": {
          "base_uri": "https://localhost:8080/",
          "height": 466
        },
        "id": "He5rwzV-wI78",
        "outputId": "0dbdadf2-9c47-4b2e-a5ef-7f54b4f58595"
      },
      "execution_count": 49,
      "outputs": [
        {
          "output_type": "execute_result",
          "data": {
            "text/plain": [
              "[<matplotlib.lines.Line2D at 0x7dd106a3c390>]"
            ]
          },
          "metadata": {},
          "execution_count": 49
        },
        {
          "output_type": "display_data",
          "data": {
            "text/plain": [
              "<Figure size 640x480 with 1 Axes>"
            ],
            "image/png": "[encoded data removed]"
          },
          "metadata": {}
        }
      ]
    },
    {
      "cell_type": "code",
      "source": [
        "def predict(area, bedrooms, loc_score, w, b):\n",
        "    scaled_X = sx.transform([[area, bedrooms, loc_score]])  # ✅ Pass all 3 features\n",
        "    scaled_price = np.dot(scaled_X[0], w) + b\n",
        "    return sy.inverse_transform([[scaled_price]])[0][0]\n",
        "\n",
        "\n",
        "predict(2600, 4, 8.5, w, b)\n"
      ],
      "metadata": {
        "colab": {
          "base_uri": "https://localhost:8080/"
        },
        "id": "AnZvbvxywXwI",
        "outputId": "1d9723d9-d3dd-4d9e-c0c7-eebe5ceefa44"
      },
      "execution_count": 52,
      "outputs": [
        {
          "output_type": "stream",
          "name": "stderr",
          "text": [
            "/usr/local/lib/python3.11/dist-packages/sklearn/utils/validation.py:2739: UserWarning: X does not have valid feature names, but MinMaxScaler was fitted with feature names\n",
            "  warnings.warn(\n"
          ]
        },
        {
          "output_type": "execute_result",
          "data": {
            "text/plain": [
              "np.float64(378.3496034209547)"
            ]
          },
          "metadata": {},
          "execution_count": 52
        }
      ]
    }
  ]
}