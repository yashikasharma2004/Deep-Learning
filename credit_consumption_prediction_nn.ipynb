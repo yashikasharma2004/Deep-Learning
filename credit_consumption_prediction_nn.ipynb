{
  "nbformat": 4,
  "nbformat_minor": 0,
  "metadata": {
    "colab": {
      "provenance": []
    },
    "kernelspec": {
      "name": "python3",
      "display_name": "Python 3"
    },
    "language_info": {
      "name": "python"
    }
  },
  "cells": [
    {
      "cell_type": "code",
      "execution_count": 4,
      "metadata": {
        "id": "wRG48LYMegvC"
      },
      "outputs": [],
      "source": [
        "#Predict customers' credit future spend on card, based on historical spend data and demographic parameters\n",
        "\n",
        "# Understanding the consumption pattern for credit cards at an individual consumer level is important for customer relationship management. This understanding allows banks to customize for consumers and make strategic marketing plans. Thus it is imperative to study the relationship between the characteristics of the consumers and their consumption patterns. Bank of Trust has given a sample of their customers, along with their details like age, gender and other demographics. Bank of Trust has also shared information on liabilities, assets and history of transactions with the bank for each customer. In addition to the above, data has been provided for a particular set of customers' credit card spend in the previous 3 months (April, May & June) and their expected average spend in the coming 3 months (July, August & September). The goal is to predict the average spend for the customers for the upcoming 3 months."
      ]
    },
    {
      "cell_type": "code",
      "source": [
        "import pandas as pd\n",
        "import numpy as np\n",
        "import torch\n",
        "import torch.nn as nn\n",
        "import torch.optim as optim\n",
        "from sklearn.model_selection import train_test_split\n",
        "from sklearn.preprocessing import StandardScaler, LabelEncoder\n",
        "import matplotlib.pyplot as plt\n",
        "\n",
        "# ===================== LOAD DATA =====================\n",
        "df = pd.read_csv(\"synthetic_bank_data.csv\")  # <-- Use the generated dataset\n",
        "\n",
        "# Fill missing values\n",
        "df.fillna(df.median(numeric_only=True), inplace=True)\n",
        "\n",
        "# Encode categorical features\n",
        "for col in ['account_type', 'gender']:\n",
        "    le = LabelEncoder()\n",
        "    df[col] = le.fit_transform(df[col])\n",
        "\n",
        "# ===================== FEATURES & TARGET =====================\n",
        "target = 'cc_cons_apr'  # Predicting April credit card consumption\n",
        "X = df.drop(columns=['id', target])\n",
        "y = df[target]\n",
        "\n",
        "# ===================== SPLIT & SCALE =====================\n",
        "X_train, X_test, y_train, y_test = train_test_split(X, y, test_size=0.2, random_state=42)\n",
        "\n",
        "scaler_X = StandardScaler()\n",
        "X_train_scaled = scaler_X.fit_transform(X_train)\n",
        "X_test_scaled = scaler_X.transform(X_test)\n",
        "\n",
        "scaler_y = StandardScaler()\n",
        "y_train_scaled = scaler_y.fit_transform(y_train.values.reshape(-1,1))\n",
        "y_test_scaled = scaler_y.transform(y_test.values.reshape(-1,1))\n",
        "\n",
        "# Convert to tensors\n",
        "X_train_tensor = torch.tensor(X_train_scaled, dtype=torch.float32)\n",
        "X_test_tensor = torch.tensor(X_test_scaled, dtype=torch.float32)\n",
        "y_train_tensor = torch.tensor(y_train_scaled, dtype=torch.float32)\n",
        "y_test_tensor = torch.tensor(y_test_scaled, dtype=torch.float32)\n",
        "\n",
        "# ===================== MODEL =====================\n",
        "class Net(nn.Module):\n",
        "    def __init__(self, input_dim):\n",
        "        super(Net, self).__init__()\n",
        "        self.fc1 = nn.Linear(input_dim, 32)\n",
        "        self.fc2 = nn.Linear(32, 16)\n",
        "        self.fc3 = nn.Linear(16, 1)\n",
        "    def forward(self, x):\n",
        "        x = torch.relu(self.fc1(x))\n",
        "        x = torch.relu(self.fc2(x))\n",
        "        return self.fc3(x)\n",
        "\n",
        "model = Net(X_train_tensor.shape[1])\n",
        "\n",
        "# ===================== TRAINING =====================\n",
        "criterion = nn.MSELoss()\n",
        "optimizer = optim.Adam(model.parameters(), lr=0.001)\n",
        "epochs = 100\n",
        "\n",
        "for epoch in range(epochs):\n",
        "    model.train()\n",
        "    optimizer.zero_grad()\n",
        "    outputs = model(X_train_tensor)\n",
        "    loss = criterion(outputs, y_train_tensor)\n",
        "    loss.backward()\n",
        "    optimizer.step()\n",
        "\n",
        "    if (epoch+1) % 20 == 0:\n",
        "        model.eval()\n",
        "        test_loss = criterion(model(X_test_tensor), y_test_tensor).item()\n",
        "        print(f\"Epoch {epoch+1}/{epochs} - Train Loss: {loss.item():.4f}, Test Loss: {test_loss:.4f}\")\n",
        "\n",
        "# ===================== PREDICTIONS =====================\n",
        "model.eval()\n",
        "y_pred_scaled = model(X_test_tensor).detach().numpy()\n",
        "y_pred = scaler_y.inverse_transform(y_pred_scaled)\n",
        "y_test_rescaled = scaler_y.inverse_transform(y_test_tensor)\n",
        "\n",
        "print(\"\\nSample Predictions vs Actual:\")\n",
        "for i in range(5):\n",
        "    print(f\"Predicted: {y_pred[i][0]:.2f}, Actual: {y_test_rescaled[i][0]:.2f}\")\n",
        "\n",
        "# ===================== VISUALIZATION =====================\n",
        "plt.figure(figsize=(8,5))\n",
        "plt.hist(y_test_rescaled, bins=50)\n",
        "plt.title('Distribution of Target Values (Actual)')\n",
        "plt.xlabel('Consumption Amount')\n",
        "plt.ylabel('Frequency')\n",
        "plt.show()\n"
      ],
      "metadata": {
        "id": "T6Om-oyLiGrF",
        "colab": {
          "base_uri": "https://localhost:8080/",
          "height": 695
        },
        "outputId": "009537bd-575e-4984-c578-3b9fa88d1de7"
      },
      "execution_count": 36,
      "outputs": [
        {
          "output_type": "stream",
          "name": "stdout",
          "text": [
            "Epoch 20/100 - Train Loss: 0.9677, Test Loss: 1.0243\n",
            "Epoch 40/100 - Train Loss: 0.9012, Test Loss: 1.0382\n",
            "Epoch 60/100 - Train Loss: 0.8138, Test Loss: 1.0593\n",
            "Epoch 80/100 - Train Loss: 0.6878, Test Loss: 1.1067\n",
            "Epoch 100/100 - Train Loss: 0.5314, Test Loss: 1.2067\n",
            "\n",
            "Sample Predictions vs Actual:\n",
            "Predicted: 29958.55, Actual: 20111.24\n",
            "Predicted: 25420.74, Actual: 32704.96\n",
            "Predicted: 12981.95, Actual: 14158.98\n",
            "Predicted: 19249.49, Actual: 20237.11\n",
            "Predicted: 17765.62, Actual: 18754.50\n"
          ]
        },
        {
          "output_type": "display_data",
          "data": {
            "text/plain": [
              "<Figure size 800x500 with 1 Axes>"
            ],
            "image/png": "[encoded data removed]"
          },
          "metadata": {}
        }
      ]
    },
    {
      "cell_type": "code",
      "source": [
        "# define a custom root mean square logarithmic error function\n",
        "def rmsle(y_pred, y_true):\n",
        "\n",
        "  # ensure that predictions are positive + 1 to avoid log(0)\n",
        "  y_pred=torch.clamp(y_pred,min=0)+1\n",
        "  y_true=torch.clamp(y_true, min=0)+1\n",
        "\n",
        "  # calculate the logarithms and comput the squared difference\n",
        "  log_pred=torch.log(y_pred)\n",
        "  log_true=torch.log(y_true)\n",
        "  squared_log_error=(log_pred-log_true)**2\n",
        "\n",
        "  # compute mean of squared log error and take the square root\n",
        "  mean_squared_log_error=torch.mean(squared_log_error)\n",
        "  rmsle=torch.sqrt(mean_squared_log_error)\n",
        "\n",
        "  return rmsle"
      ],
      "metadata": {
        "id": "BEQn95dkiGmi"
      },
      "execution_count": 37,
      "outputs": []
    },
    {
      "cell_type": "code",
      "source": [
        "import torch.nn as nn\n",
        "import torch.nn.functional as F\n",
        "from torch.utils.data import TensorDataset, DataLoader\n",
        "import torch.optim as optim\n"
      ],
      "metadata": {
        "id": "1mr3FNghciQr"
      },
      "execution_count": 38,
      "outputs": []
    },
    {
      "cell_type": "code",
      "source": [
        "import torch.nn as nn\n",
        "import torch.nn.functional as F\n",
        "\n",
        "class Net(nn.Module):\n",
        "    def __init__(self):\n",
        "        super(Net, self).__init__()\n",
        "        self.fc1 = nn.Linear(X_train_tensor.shape[1], 128)\n",
        "        self.fc2 = nn.Linear(128, 64)\n",
        "        self.fc3 = nn.Linear(64, 32)\n",
        "        self.fc4 = nn.Linear(32, 1)\n",
        "\n",
        "    def forward(self, x):\n",
        "        x = F.relu(self.fc1(x))\n",
        "        x = F.relu(self.fc2(x))\n",
        "        x = F.relu(self.fc3(x))\n",
        "        x = self.fc4(x)\n",
        "        return x\n"
      ],
      "metadata": {
        "id": "8pNdDkKAc7Nz"
      },
      "execution_count": 41,
      "outputs": []
    },
    {
      "cell_type": "code",
      "source": [
        "train_data=TensorDataset(X_train_tensor, y_train_tensor)"
      ],
      "metadata": {
        "id": "RXuoYL-DeQX_"
      },
      "execution_count": 42,
      "outputs": []
    },
    {
      "cell_type": "code",
      "source": [
        "# Use Adam with a slightly higher LR\n",
        "model = Net()\n",
        "optimizer = optim.Adam(model.parameters(), lr=0.001)\n",
        "\n",
        "# Loss lists\n",
        "train_loss_list = []\n",
        "test_loss_list = []\n",
        "num_epochs = 400\n",
        "train_loader = DataLoader(train_data, batch_size=64, shuffle=True)\n",
        "\n",
        "model.train()\n",
        "for epoch in range(num_epochs):\n",
        "    for X_batch, y_batch in train_loader:\n",
        "        # Forward pass\n",
        "        pred = model(X_batch)\n",
        "        loss = rmsle(pred, y_batch)\n",
        "\n",
        "        # Backward pass and optimization\n",
        "        optimizer.zero_grad()\n",
        "        loss.backward()\n",
        "        optimizer.step()\n",
        "\n",
        "    # Compute losses on full train/test sets\n",
        "    model.eval()\n",
        "    with torch.no_grad():\n",
        "        train_loss = rmsle(model(X_train_tensor), y_train_tensor).item()\n",
        "        test_loss = rmsle(model(X_test_tensor), y_test_tensor).item()\n",
        "    model.train()\n",
        "\n",
        "    train_loss_list.append(train_loss)\n",
        "    test_loss_list.append(test_loss)\n",
        "\n",
        "    # Print every 20 epochs\n",
        "    if (epoch + 1) % 20 == 0:\n",
        "        print(f'Epoch {epoch+1}/{num_epochs} - Train Loss: {train_loss:.4f}, Test Loss: {test_loss:.4f}')\n"
      ],
      "metadata": {
        "colab": {
          "base_uri": "https://localhost:8080/"
        },
        "id": "SusBNDKnec1T",
        "outputId": "10f0e75c-afbb-4969-bbf0-6f840e9c0201"
      },
      "execution_count": 51,
      "outputs": [
        {
          "output_type": "stream",
          "name": "stdout",
          "text": [
            "Epoch 20/400 - Train Loss: 0.0742, Test Loss: 0.4628\n",
            "Epoch 40/400 - Train Loss: 0.0581, Test Loss: 0.4565\n",
            "Epoch 60/400 - Train Loss: 0.0481, Test Loss: 0.4580\n",
            "Epoch 80/400 - Train Loss: 0.0507, Test Loss: 0.4532\n",
            "Epoch 100/400 - Train Loss: 0.0453, Test Loss: 0.4541\n",
            "Epoch 120/400 - Train Loss: 0.0417, Test Loss: 0.4523\n",
            "Epoch 140/400 - Train Loss: 0.0420, Test Loss: 0.4577\n",
            "Epoch 160/400 - Train Loss: 0.0442, Test Loss: 0.4602\n",
            "Epoch 180/400 - Train Loss: 0.0378, Test Loss: 0.4553\n",
            "Epoch 200/400 - Train Loss: 0.0379, Test Loss: 0.4592\n",
            "Epoch 220/400 - Train Loss: 0.0387, Test Loss: 0.4570\n",
            "Epoch 240/400 - Train Loss: 0.0377, Test Loss: 0.4569\n",
            "Epoch 260/400 - Train Loss: 0.0355, Test Loss: 0.4613\n",
            "Epoch 280/400 - Train Loss: 0.0380, Test Loss: 0.4653\n",
            "Epoch 300/400 - Train Loss: 0.0347, Test Loss: 0.4579\n",
            "Epoch 320/400 - Train Loss: 0.0352, Test Loss: 0.4546\n",
            "Epoch 340/400 - Train Loss: 0.0377, Test Loss: 0.4624\n",
            "Epoch 360/400 - Train Loss: 0.0344, Test Loss: 0.4608\n",
            "Epoch 380/400 - Train Loss: 0.0357, Test Loss: 0.4585\n",
            "Epoch 400/400 - Train Loss: 0.0355, Test Loss: 0.4580\n"
          ]
        }
      ]
    },
    {
      "cell_type": "code",
      "source": [
        "plt.plot(range(num_epochs),train_loss_list,label='train')\n",
        "plt.plot(range(num_epochs),test_loss_list,label='test')\n",
        "plt.legend()\n",
        "plt.show()\n"
      ],
      "metadata": {
        "colab": {
          "base_uri": "https://localhost:8080/",
          "height": 430
        },
        "id": "kUOv-dXde3Ak",
        "outputId": "2e89a793-0f0c-47a7-e4f9-712085a8a46e"
      },
      "execution_count": 52,
      "outputs": [
        {
          "output_type": "display_data",
          "data": {
            "text/plain": [
              "<Figure size 640x480 with 1 Axes>"
            ],
            "image/png": "[encoded data removed]"
          },
          "metadata": {}
        }
      ]
    },
    {
      "cell_type": "code",
      "source": [
        "import torch.nn as nn\n",
        "import torch.nn.functional as F\n",
        "\n",
        "class Net(nn.Module):\n",
        "    def __init__(self):\n",
        "        super(Net, self).__init__()\n",
        "        self.fc1 = nn.Linear(X_train_tensor.shape[1], 512)\n",
        "        self.fc2 = nn.Linear(512,128)\n",
        "        self.fc3 = nn.Linear(128, 32)\n",
        "        self.fc4 = nn.Linear(32, 1)\n",
        "\n",
        "    def forward(self, x):\n",
        "        x = F.relu(self.fc1(x))\n",
        "        x = F.relu(self.fc2(x))\n",
        "        x = F.relu(self.fc3(x))\n",
        "        x = self.fc4(x)\n",
        "        return x"
      ],
      "metadata": {
        "id": "0Bu6mInye29J"
      },
      "execution_count": 53,
      "outputs": []
    },
    {
      "cell_type": "code",
      "source": [
        "# Use Adam with a slightly higher LR\n",
        "model = Net()\n",
        "optimizer = optim.Adam(model.parameters(),lr=0.0000000001)\n",
        "\n",
        "# Loss lists\n",
        "train_loss_list = []\n",
        "test_loss_list = []\n",
        "num_epochs = 400\n",
        "train_loader = DataLoader(train_data, batch_size=128, shuffle=True)\n",
        "\n",
        "for epoch in range(num_epochs):\n",
        "    for X_batch, y_batch in train_loader:\n",
        "        # Forward pass\n",
        "        pred = model(X_batch)\n",
        "        loss = rmsle(pred, y_batch)\n",
        "\n",
        "        # Backward pass and optimization\n",
        "        optimizer.zero_grad()\n",
        "        loss.backward()\n",
        "        optimizer.step()\n",
        "\n",
        "    # Compute losses on full train/test sets\n",
        "    model.eval()\n",
        "    with torch.no_grad():\n",
        "        train_loss = rmsle(model(X_train_tensor), y_train_tensor).item()\n",
        "        test_loss = rmsle(model(X_test_tensor), y_test_tensor).item()\n",
        "\n",
        "    train_loss_list.append(train_loss)\n",
        "    test_loss_list.append(test_loss)\n",
        "\n",
        "    # Print every 20 epochs\n",
        "    if (epoch + 1) % 20 == 0:\n",
        "        print(f'Epoch {epoch+1}/{num_epochs} - Train Loss: {train_loss:.4f}, Test Loss: {test_loss:.4f}')\n"
      ],
      "metadata": {
        "colab": {
          "base_uri": "https://localhost:8080/"
        },
        "id": "vVY7sNebe26v",
        "outputId": "5ae83115-f66c-44ab-bba9-dbc5e79012cd"
      },
      "execution_count": 58,
      "outputs": [
        {
          "output_type": "stream",
          "name": "stdout",
          "text": [
            "Epoch 20/400 - Train Loss: 0.4480, Test Loss: 0.4818\n",
            "Epoch 40/400 - Train Loss: 0.4480, Test Loss: 0.4818\n",
            "Epoch 60/400 - Train Loss: 0.4480, Test Loss: 0.4818\n",
            "Epoch 80/400 - Train Loss: 0.4480, Test Loss: 0.4818\n",
            "Epoch 100/400 - Train Loss: 0.4480, Test Loss: 0.4818\n",
            "Epoch 120/400 - Train Loss: 0.4480, Test Loss: 0.4818\n",
            "Epoch 140/400 - Train Loss: 0.4480, Test Loss: 0.4818\n",
            "Epoch 160/400 - Train Loss: 0.4480, Test Loss: 0.4818\n",
            "Epoch 180/400 - Train Loss: 0.4480, Test Loss: 0.4818\n",
            "Epoch 200/400 - Train Loss: 0.4480, Test Loss: 0.4818\n",
            "Epoch 220/400 - Train Loss: 0.4480, Test Loss: 0.4818\n",
            "Epoch 240/400 - Train Loss: 0.4480, Test Loss: 0.4818\n",
            "Epoch 260/400 - Train Loss: 0.4480, Test Loss: 0.4818\n",
            "Epoch 280/400 - Train Loss: 0.4480, Test Loss: 0.4818\n",
            "Epoch 300/400 - Train Loss: 0.4480, Test Loss: 0.4818\n",
            "Epoch 320/400 - Train Loss: 0.4480, Test Loss: 0.4818\n",
            "Epoch 340/400 - Train Loss: 0.4480, Test Loss: 0.4818\n",
            "Epoch 360/400 - Train Loss: 0.4480, Test Loss: 0.4818\n",
            "Epoch 380/400 - Train Loss: 0.4480, Test Loss: 0.4818\n",
            "Epoch 400/400 - Train Loss: 0.4480, Test Loss: 0.4818\n"
          ]
        }
      ]
    },
    {
      "cell_type": "code",
      "source": [
        "plt.plot(range(num_epochs),train_loss_list,label='train')\n",
        "plt.plot(range(num_epochs),test_loss_list,label='test')\n",
        "plt.legend()\n",
        "plt.show()"
      ],
      "metadata": {
        "colab": {
          "base_uri": "https://localhost:8080/",
          "height": 430
        },
        "id": "Dq8f3WQUhghL",
        "outputId": "38eb974e-cee1-4468-e016-cd748f41eadd"
      },
      "execution_count": 57,
      "outputs": [
        {
          "output_type": "display_data",
          "data": {
            "text/plain": [
              "<Figure size 640x480 with 1 Axes>"
            ],
            "image/png": "[encoded data removed]"
          },
          "metadata": {}
        }
      ]
    }
  ]
}