{
  "nbformat": 4,
  "nbformat_minor": 0,
  "metadata": {
    "colab": {
      "provenance": []
    },
    "kernelspec": {
      "name": "python3",
      "display_name": "Python 3"
    },
    "language_info": {
      "name": "python"
    }
  },
  "cells": [
    {
      "cell_type": "code",
      "execution_count": 35,
      "metadata": {
        "id": "oalvi23xcMWD"
      },
      "outputs": [],
      "source": [
        "#Simple Linear Regression example to predict the first year college grades of students from their high school SAT and GPA scores\n",
        "\n",
        "#Prodigy University is seeking to enhance its enrollment process. They plan to do so by implementing a predictive analytics model aimed at identifying prospective students who demonstrate a high potential for academic success.\n",
        "\n",
        "#The goal is to develop a predictive model that can accurately forecast the first-year college GPA of applicants based on their SAT scores and high school scores. This model is intended to serve as a strategic tool for the admissions office, enabling them to efficiently shortlist candidates who not only meet the academic standards of the university but are also likely to thrive in their chosen fields of study. By doing so, the university aspires to optimize its student selection process, improve academic outcomes, and foster an environment of excellence and high achievement."
      ]
    },
    {
      "cell_type": "code",
      "source": [
        "import pandas as pd"
      ],
      "metadata": {
        "id": "OB61x14OcjKQ"
      },
      "execution_count": 36,
      "outputs": []
    },
    {
      "cell_type": "code",
      "source": [
        "data=pd.read_csv('student_gpa_data_1000.csv')\n",
        "df.head(5)"
      ],
      "metadata": {
        "colab": {
          "base_uri": "https://localhost:8080/",
          "height": 206
        },
        "id": "AYYox1TFcmoD",
        "outputId": "bd8f3a51-0e5a-44fe-92cd-2e755b6f5e5f"
      },
      "execution_count": 37,
      "outputs": [
        {
          "output_type": "execute_result",
          "data": {
            "text/plain": [
              "   sat_sum  hs_gpa  fy_gpa\n",
              "0      482    3.99    3.37\n",
              "1      728    3.43    3.22\n",
              "2      650    3.42    3.67\n",
              "3      486    2.51    2.35\n",
              "4      451    2.53    2.78"
            ],
            "text/html": [
              "\n",
              "  <div id=\"df-63e870a4-140c-43ca-85ed-ec0e2b345664\" class=\"colab-df-container\">\n",
              "    <div>\n",
              "<style scoped>\n",
              "    .dataframe tbody tr th:only-of-type {\n",
              "        vertical-align: middle;\n",
              "    }\n",
              "\n",
              "    .dataframe tbody tr th {\n",
              "        vertical-align: top;\n",
              "    }\n",
              "\n",
              "    .dataframe thead th {\n",
              "        text-align: right;\n",
              "    }\n",
              "</style>\n",
              "<table border=\"1\" class=\"dataframe\">\n",
              "  <thead>\n",
              "    <tr style=\"text-align: right;\">\n",
              "      <th></th>\n",
              "      <th>sat_sum</th>\n",
              "      <th>hs_gpa</th>\n",
              "      <th>fy_gpa</th>\n",
              "    </tr>\n",
              "  </thead>\n",
              "  <tbody>\n",
              "    <tr>\n",
              "      <th>0</th>\n",
              "      <td>482</td>\n",
              "      <td>3.99</td>\n",
              "      <td>3.37</td>\n",
              "    </tr>\n",
              "    <tr>\n",
              "      <th>1</th>\n",
              "      <td>728</td>\n",
              "      <td>3.43</td>\n",
              "      <td>3.22</td>\n",
              "    </tr>\n",
              "    <tr>\n",
              "      <th>2</th>\n",
              "      <td>650</td>\n",
              "      <td>3.42</td>\n",
              "      <td>3.67</td>\n",
              "    </tr>\n",
              "    <tr>\n",
              "      <th>3</th>\n",
              "      <td>486</td>\n",
              "      <td>2.51</td>\n",
              "      <td>2.35</td>\n",
              "    </tr>\n",
              "    <tr>\n",
              "      <th>4</th>\n",
              "      <td>451</td>\n",
              "      <td>2.53</td>\n",
              "      <td>2.78</td>\n",
              "    </tr>\n",
              "  </tbody>\n",
              "</table>\n",
              "</div>\n",
              "    <div class=\"colab-df-buttons\">\n",
              "\n",
              "  <div class=\"colab-df-container\">\n",
              "    <button class=\"colab-df-convert\" onclick=\"convertToInteractive('df-63e870a4-140c-43ca-85ed-ec0e2b345664')\"\n",
              "            title=\"Convert this dataframe to an interactive table.\"\n",
              "            style=\"display:none;\">\n",
              "\n",
              "  <svg xmlns=\"http://www.w3.org/2000/svg\" height=\"24px\" viewBox=\"0 -960 960 960\">\n",
              "    <path d=\"M120-120v-720h720v720H120Zm60-500h600v-160H180v160Zm220 220h160v-160H400v160Zm0 220h160v-160H400v160ZM180-400h160v-160H180v160Zm440 0h160v-160H620v160ZM180-180h160v-160H180v160Zm440 0h160v-160H620v160Z\"/>\n",
              "  </svg>\n",
              "    </button>\n",
              "\n",
              "  <style>\n",
              "    .colab-df-container {\n",
              "      display:flex;\n",
              "      gap: 12px;\n",
              "    }\n",
              "\n",
              "    .colab-df-convert {\n",
              "      background-color: #E8F0FE;\n",
              "      border: none;\n",
              "      border-radius: 50%;\n",
              "      cursor: pointer;\n",
              "      display: none;\n",
              "      fill: #1967D2;\n",
              "      height: 32px;\n",
              "      padding: 0 0 0 0;\n",
              "      width: 32px;\n",
              "    }\n",
              "\n",
              "    .colab-df-convert:hover {\n",
              "      background-color: #E2EBFA;\n",
              "      box-shadow: 0px 1px 2px rgba(60, 64, 67, 0.3), 0px 1px 3px 1px rgba(60, 64, 67, 0.15);\n",
              "      fill: #174EA6;\n",
              "    }\n",
              "\n",
              "    .colab-df-buttons div {\n",
              "      margin-bottom: 4px;\n",
              "    }\n",
              "\n",
              "    [theme=dark] .colab-df-convert {\n",
              "      background-color: #3B4455;\n",
              "      fill: #D2E3FC;\n",
              "    }\n",
              "\n",
              "    [theme=dark] .colab-df-convert:hover {\n",
              "      background-color: #434B5C;\n",
              "      box-shadow: 0px 1px 3px 1px rgba(0, 0, 0, 0.15);\n",
              "      filter: drop-shadow(0px 1px 2px rgba(0, 0, 0, 0.3));\n",
              "      fill: #FFFFFF;\n",
              "    }\n",
              "  </style>\n",
              "\n",
              "    <script>\n",
              "      const buttonEl =\n",
              "        document.querySelector('#df-63e870a4-140c-43ca-85ed-ec0e2b345664 button.colab-df-convert');\n",
              "      buttonEl.style.display =\n",
              "        google.colab.kernel.accessAllowed ? 'block' : 'none';\n",
              "\n",
              "      async function convertToInteractive(key) {\n",
              "        const element = document.querySelector('#df-63e870a4-140c-43ca-85ed-ec0e2b345664');\n",
              "        const dataTable =\n",
              "          await google.colab.kernel.invokeFunction('convertToInteractive',\n",
              "                                                    [key], {});\n",
              "        if (!dataTable) return;\n",
              "\n",
              "        const docLinkHtml = 'Like what you see? Visit the ' +\n",
              "          '<a target=\"_blank\" href=https://colab.research.google.com/notebooks/data_table.ipynb>data table notebook</a>'\n",
              "          + ' to learn more about interactive tables.';\n",
              "        element.innerHTML = '';\n",
              "        dataTable['output_type'] = 'display_data';\n",
              "        await google.colab.output.renderOutput(dataTable, element);\n",
              "        const docLink = document.createElement('div');\n",
              "        docLink.innerHTML = docLinkHtml;\n",
              "        element.appendChild(docLink);\n",
              "      }\n",
              "    </script>\n",
              "  </div>\n",
              "\n",
              "\n",
              "    <div id=\"df-9d59ad0c-39ce-4340-9a37-78c8a50cb138\">\n",
              "      <button class=\"colab-df-quickchart\" onclick=\"quickchart('df-9d59ad0c-39ce-4340-9a37-78c8a50cb138')\"\n",
              "                title=\"Suggest charts\"\n",
              "                style=\"display:none;\">\n",
              "\n",
              "<svg xmlns=\"http://www.w3.org/2000/svg\" height=\"24px\"viewBox=\"0 0 24 24\"\n",
              "     width=\"24px\">\n",
              "    <g>\n",
              "        <path d=\"M19 3H5c-1.1 0-2 .9-2 2v14c0 1.1.9 2 2 2h14c1.1 0 2-.9 2-2V5c0-1.1-.9-2-2-2zM9 17H7v-7h2v7zm4 0h-2V7h2v10zm4 0h-2v-4h2v4z\"/>\n",
              "    </g>\n",
              "</svg>\n",
              "      </button>\n",
              "\n",
              "<style>\n",
              "  .colab-df-quickchart {\n",
              "      --bg-color: #E8F0FE;\n",
              "      --fill-color: #1967D2;\n",
              "      --hover-bg-color: #E2EBFA;\n",
              "      --hover-fill-color: #174EA6;\n",
              "      --disabled-fill-color: #AAA;\n",
              "      --disabled-bg-color: #DDD;\n",
              "  }\n",
              "\n",
              "  [theme=dark] .colab-df-quickchart {\n",
              "      --bg-color: #3B4455;\n",
              "      --fill-color: #D2E3FC;\n",
              "      --hover-bg-color: #434B5C;\n",
              "      --hover-fill-color: #FFFFFF;\n",
              "      --disabled-bg-color: #3B4455;\n",
              "      --disabled-fill-color: #666;\n",
              "  }\n",
              "\n",
              "  .colab-df-quickchart {\n",
              "    background-color: var(--bg-color);\n",
              "    border: none;\n",
              "    border-radius: 50%;\n",
              "    cursor: pointer;\n",
              "    display: none;\n",
              "    fill: var(--fill-color);\n",
              "    height: 32px;\n",
              "    padding: 0;\n",
              "    width: 32px;\n",
              "  }\n",
              "\n",
              "  .colab-df-quickchart:hover {\n",
              "    background-color: var(--hover-bg-color);\n",
              "    box-shadow: 0 1px 2px rgba(60, 64, 67, 0.3), 0 1px 3px 1px rgba(60, 64, 67, 0.15);\n",
              "    fill: var(--button-hover-fill-color);\n",
              "  }\n",
              "\n",
              "  .colab-df-quickchart-complete:disabled,\n",
              "  .colab-df-quickchart-complete:disabled:hover {\n",
              "    background-color: var(--disabled-bg-color);\n",
              "    fill: var(--disabled-fill-color);\n",
              "    box-shadow: none;\n",
              "  }\n",
              "\n",
              "  .colab-df-spinner {\n",
              "    border: 2px solid var(--fill-color);\n",
              "    border-color: transparent;\n",
              "    border-bottom-color: var(--fill-color);\n",
              "    animation:\n",
              "      spin 1s steps(1) infinite;\n",
              "  }\n",
              "\n",
              "  @keyframes spin {\n",
              "    0% {\n",
              "      border-color: transparent;\n",
              "      border-bottom-color: var(--fill-color);\n",
              "      border-left-color: var(--fill-color);\n",
              "    }\n",
              "    20% {\n",
              "      border-color: transparent;\n",
              "      border-left-color: var(--fill-color);\n",
              "      border-top-color: var(--fill-color);\n",
              "    }\n",
              "    30% {\n",
              "      border-color: transparent;\n",
              "      border-left-color: var(--fill-color);\n",
              "      border-top-color: var(--fill-color);\n",
              "      border-right-color: var(--fill-color);\n",
              "    }\n",
              "    40% {\n",
              "      border-color: transparent;\n",
              "      border-right-color: var(--fill-color);\n",
              "      border-top-color: var(--fill-color);\n",
              "    }\n",
              "    60% {\n",
              "      border-color: transparent;\n",
              "      border-right-color: var(--fill-color);\n",
              "    }\n",
              "    80% {\n",
              "      border-color: transparent;\n",
              "      border-right-color: var(--fill-color);\n",
              "      border-bottom-color: var(--fill-color);\n",
              "    }\n",
              "    90% {\n",
              "      border-color: transparent;\n",
              "      border-bottom-color: var(--fill-color);\n",
              "    }\n",
              "  }\n",
              "</style>\n",
              "\n",
              "      <script>\n",
              "        async function quickchart(key) {\n",
              "          const quickchartButtonEl =\n",
              "            document.querySelector('#' + key + ' button');\n",
              "          quickchartButtonEl.disabled = true;  // To prevent multiple clicks.\n",
              "          quickchartButtonEl.classList.add('colab-df-spinner');\n",
              "          try {\n",
              "            const charts = await google.colab.kernel.invokeFunction(\n",
              "                'suggestCharts', [key], {});\n",
              "          } catch (error) {\n",
              "            console.error('Error during call to suggestCharts:', error);\n",
              "          }\n",
              "          quickchartButtonEl.classList.remove('colab-df-spinner');\n",
              "          quickchartButtonEl.classList.add('colab-df-quickchart-complete');\n",
              "        }\n",
              "        (() => {\n",
              "          let quickchartButtonEl =\n",
              "            document.querySelector('#df-9d59ad0c-39ce-4340-9a37-78c8a50cb138 button');\n",
              "          quickchartButtonEl.style.display =\n",
              "            google.colab.kernel.accessAllowed ? 'block' : 'none';\n",
              "        })();\n",
              "      </script>\n",
              "    </div>\n",
              "\n",
              "    </div>\n",
              "  </div>\n"
            ],
            "application/vnd.google.colaboratory.intrinsic+json": {
              "type": "dataframe",
              "variable_name": "df",
              "summary": "{\n  \"name\": \"df\",\n  \"rows\": 25,\n  \"fields\": [\n    {\n      \"column\": \"sat_sum\",\n      \"properties\": {\n        \"dtype\": \"number\",\n        \"std\": 117,\n        \"min\": 400,\n        \"max\": 793,\n        \"num_unique_values\": 24,\n        \"samples\": [\n          594,\n          529,\n          482\n        ],\n        \"semantic_type\": \"\",\n        \"description\": \"\"\n      }\n    },\n    {\n      \"column\": \"hs_gpa\",\n      \"properties\": {\n        \"dtype\": \"number\",\n        \"std\": 0.4951794287595829,\n        \"min\": 2.51,\n        \"max\": 3.99,\n        \"num_unique_values\": 22,\n        \"samples\": [\n          3.99,\n          3.2,\n          3.96\n        ],\n        \"semantic_type\": \"\",\n        \"description\": \"\"\n      }\n    },\n    {\n      \"column\": \"fy_gpa\",\n      \"properties\": {\n        \"dtype\": \"number\",\n        \"std\": 0.5240903230042191,\n        \"min\": 2.06,\n        \"max\": 3.93,\n        \"num_unique_values\": 24,\n        \"samples\": [\n          2.42,\n          2.65,\n          3.37\n        ],\n        \"semantic_type\": \"\",\n        \"description\": \"\"\n      }\n    }\n  ]\n}"
            }
          },
          "metadata": {},
          "execution_count": 37
        }
      ]
    },
    {
      "cell_type": "code",
      "source": [
        "from collections.abc import ValuesView\n",
        "# convert data to numpy\n",
        "X = data[['sat_sum','hs_gpa']].values\n",
        "# reshape the fy_gpa into 2D array with [data size] rows and 1 column\n",
        "y=data['fy_gpa'].values.reshape(-1,1)\n",
        "print(X.shape)\n",
        "print(y.shape)"
      ],
      "metadata": {
        "colab": {
          "base_uri": "https://localhost:8080/"
        },
        "id": "Vsl9gACueLaG",
        "outputId": "61880a30-ed02-48d6-dc69-52d47eb0c131"
      },
      "execution_count": 38,
      "outputs": [
        {
          "output_type": "stream",
          "name": "stdout",
          "text": [
            "(1000, 2)\n",
            "(1000, 1)\n"
          ]
        }
      ]
    },
    {
      "cell_type": "code",
      "source": [
        "# train test split\n",
        "from sklearn.model_selection import train_test_split\n",
        "X_train,X_test,y_train,y_test=train_test_split(X,y,test_size=0.2,random_state=42)"
      ],
      "metadata": {
        "id": "WrrkDcv8gKS1"
      },
      "execution_count": 39,
      "outputs": []
    },
    {
      "cell_type": "code",
      "source": [
        "from sklearn.preprocessing import StandardScaler\n",
        "# normalize the feautures so that it is easier to train the data\n",
        "scaler=StandardScaler()\n",
        "X_train=scaler.fit_transform(X_train)\n",
        "X_test=scaler.transform(X_test)"
      ],
      "metadata": {
        "id": "490yBHsihdK-"
      },
      "execution_count": 40,
      "outputs": []
    },
    {
      "cell_type": "code",
      "source": [
        "X_train.shape"
      ],
      "metadata": {
        "colab": {
          "base_uri": "https://localhost:8080/"
        },
        "id": "Py_Y4rVAiBiI",
        "outputId": "a2b04395-f906-4efa-b35a-baf8b5f1924a"
      },
      "execution_count": 41,
      "outputs": [
        {
          "output_type": "execute_result",
          "data": {
            "text/plain": [
              "(800, 2)"
            ]
          },
          "metadata": {},
          "execution_count": 41
        }
      ]
    },
    {
      "cell_type": "code",
      "source": [
        "import torch\n",
        "# convert numpy to Pytorch tensors\n",
        "X_train_tensor=torch.tensor(X_train,dtype=torch.float32)\n",
        "y_train_tensor=torch.tensor(y_train,dtype=torch.float32)\n",
        "X_test_tensor=torch.tensor(X_test,dtype=torch.float32)\n",
        "y_test_tensor=torch.tensor(y_test,dtype=torch.float32)\n"
      ],
      "metadata": {
        "id": "2O_n4o41iEeu"
      },
      "execution_count": 42,
      "outputs": []
    },
    {
      "cell_type": "code",
      "source": [
        "# BUILDING MODEL\n",
        "\n",
        "import torch.nn as nn\n"
      ],
      "metadata": {
        "id": "qs-pApcZijYz"
      },
      "execution_count": 43,
      "outputs": []
    },
    {
      "cell_type": "code",
      "source": [
        "# BUILDING MODEL WITH 2 NEURONS\n",
        "model=nn.Sequential(\n",
        "    nn.Linear(2,2), # 2 i/p 2 o/p\n",
        "    nn.Sigmoid(),   # activation fxn\n",
        "    nn.Linear(2,1)\n",
        ")"
      ],
      "metadata": {
        "id": "Zfd3jY2SitRJ"
      },
      "execution_count": 44,
      "outputs": []
    },
    {
      "cell_type": "code",
      "source": [
        "# forward propagation\n",
        "preds=model(X_train_tensor)"
      ],
      "metadata": {
        "id": "h_hkCuv_jIqg"
      },
      "execution_count": 45,
      "outputs": []
    },
    {
      "cell_type": "code",
      "source": [
        "preds[:5]"
      ],
      "metadata": {
        "colab": {
          "base_uri": "https://localhost:8080/"
        },
        "id": "-mOZBUjYjPev",
        "outputId": "29ccd92c-1688-45dc-82c0-f6e0ef51aef1"
      },
      "execution_count": 46,
      "outputs": [
        {
          "output_type": "execute_result",
          "data": {
            "text/plain": [
              "tensor([[-0.5089],\n",
              "        [-0.5073],\n",
              "        [-0.5091],\n",
              "        [-0.5057],\n",
              "        [-0.5110]], grad_fn=<SliceBackward0>)"
            ]
          },
          "metadata": {},
          "execution_count": 46
        }
      ]
    },
    {
      "cell_type": "code",
      "source": [
        "from torch.nn import MSELoss"
      ],
      "metadata": {
        "id": "YluMindWjjcU"
      },
      "execution_count": 47,
      "outputs": []
    },
    {
      "cell_type": "code",
      "source": [
        "# Calculating Loss\n",
        "criterion = MSELoss()\n",
        "loss=criterion(preds, y_train_tensor)\n",
        "print(loss)\n"
      ],
      "metadata": {
        "colab": {
          "base_uri": "https://localhost:8080/"
        },
        "id": "T6YLagXRjv8c",
        "outputId": "f56200c3-f0c3-4650-d838-c4b15a42419f"
      },
      "execution_count": 48,
      "outputs": [
        {
          "output_type": "stream",
          "name": "stdout",
          "text": [
            "tensor(15.1825, grad_fn=<MseLossBackward0>)\n"
          ]
        }
      ]
    },
    {
      "cell_type": "code",
      "source": [
        "preds[:5]"
      ],
      "metadata": {
        "colab": {
          "base_uri": "https://localhost:8080/"
        },
        "id": "jo1TjQtkkA6m",
        "outputId": "45a97dd8-9ff0-472b-fc18-7474ea89a54e"
      },
      "execution_count": 49,
      "outputs": [
        {
          "output_type": "execute_result",
          "data": {
            "text/plain": [
              "tensor([[-0.5089],\n",
              "        [-0.5073],\n",
              "        [-0.5091],\n",
              "        [-0.5057],\n",
              "        [-0.5110]], grad_fn=<SliceBackward0>)"
            ]
          },
          "metadata": {},
          "execution_count": 49
        }
      ]
    },
    {
      "cell_type": "code",
      "source": [
        "y_train_tensor[:5]"
      ],
      "metadata": {
        "colab": {
          "base_uri": "https://localhost:8080/"
        },
        "id": "FDrMxwJWkF1B",
        "outputId": "e9f2ed04-648c-4aec-e41c-4bf6c396e0bf"
      },
      "execution_count": 50,
      "outputs": [
        {
          "output_type": "execute_result",
          "data": {
            "text/plain": [
              "tensor([[3.4500],\n",
              "        [2.3300],\n",
              "        [3.2100],\n",
              "        [3.8600],\n",
              "        [3.6400]])"
            ]
          },
          "metadata": {},
          "execution_count": 50
        }
      ]
    },
    {
      "cell_type": "code",
      "source": [
        "model[0].weight"
      ],
      "metadata": {
        "colab": {
          "base_uri": "https://localhost:8080/"
        },
        "id": "JLanaEMvkJf-",
        "outputId": "7026ffda-f21a-463f-e89d-21d22d892072"
      },
      "execution_count": 51,
      "outputs": [
        {
          "output_type": "execute_result",
          "data": {
            "text/plain": [
              "Parameter containing:\n",
              "tensor([[ 0.0208, -0.3149],\n",
              "        [-0.3581,  0.2503]], requires_grad=True)"
            ]
          },
          "metadata": {},
          "execution_count": 51
        }
      ]
    },
    {
      "cell_type": "code",
      "source": [
        "model[2].weight"
      ],
      "metadata": {
        "colab": {
          "base_uri": "https://localhost:8080/"
        },
        "id": "5nYWAxu8kNH2",
        "outputId": "f28d59a5-1be6-4fc9-9f7a-b56a46e7c2fa"
      },
      "execution_count": 52,
      "outputs": [
        {
          "output_type": "execute_result",
          "data": {
            "text/plain": [
              "Parameter containing:\n",
              "tensor([[0.0269, 0.0254]], requires_grad=True)"
            ]
          },
          "metadata": {},
          "execution_count": 52
        }
      ]
    },
    {
      "cell_type": "code",
      "source": [
        "\n",
        "import torch.optim as optim\n",
        "# Your optimizer\n",
        "optimizer = optim.SGD(model.parameters(), lr=0.001)"
      ],
      "metadata": {
        "id": "ZHkTGlV6-lpe"
      },
      "execution_count": 53,
      "outputs": []
    },
    {
      "cell_type": "code",
      "source": [
        "loss.backward()"
      ],
      "metadata": {
        "id": "4t6raapm-tIe"
      },
      "execution_count": 54,
      "outputs": []
    },
    {
      "cell_type": "code",
      "source": [
        "optimizer.step()"
      ],
      "metadata": {
        "id": "ddlcmG2j-x-A"
      },
      "execution_count": 55,
      "outputs": []
    },
    {
      "cell_type": "code",
      "source": [
        "model[0].weight"
      ],
      "metadata": {
        "colab": {
          "base_uri": "https://localhost:8080/"
        },
        "id": "dSd8oaNl-x6a",
        "outputId": "31f61cf0-5ea7-4f76-e0fd-b18f8e602b23"
      },
      "execution_count": 56,
      "outputs": [
        {
          "output_type": "execute_result",
          "data": {
            "text/plain": [
              "Parameter containing:\n",
              "tensor([[ 0.0208, -0.3149],\n",
              "        [-0.3581,  0.2503]], requires_grad=True)"
            ]
          },
          "metadata": {},
          "execution_count": 56
        }
      ]
    },
    {
      "cell_type": "code",
      "source": [
        "model[2].weight"
      ],
      "metadata": {
        "colab": {
          "base_uri": "https://localhost:8080/"
        },
        "id": "-UaNSTQo-x37",
        "outputId": "873b9690-3817-475c-8b96-d8fd0123f1f1"
      },
      "execution_count": 57,
      "outputs": [
        {
          "output_type": "execute_result",
          "data": {
            "text/plain": [
              "Parameter containing:\n",
              "tensor([[0.0303, 0.0287]], requires_grad=True)"
            ]
          },
          "metadata": {},
          "execution_count": 57
        }
      ]
    },
    {
      "cell_type": "code",
      "source": [
        "from torch.utils.data import TensorDataset,DataLoader"
      ],
      "metadata": {
        "id": "1UtsOq2T-x1Z"
      },
      "execution_count": 58,
      "outputs": []
    },
    {
      "cell_type": "code",
      "source": [
        "train_data=TensorDataset(X_train_tensor,y_train_tensor)"
      ],
      "metadata": {
        "id": "oO_0YCwv-xzA"
      },
      "execution_count": 59,
      "outputs": []
    },
    {
      "cell_type": "code",
      "source": [
        "train_data=TensorDataset(X_train_tensor,y_train_tensor)"
      ],
      "metadata": {
        "id": "8bV7kLj4-xwY"
      },
      "execution_count": 60,
      "outputs": []
    },
    {
      "cell_type": "code",
      "source": [
        "model=nn.Sequential(\n",
        "    nn.Linear(2,2),\n",
        "    nn.Sigmoid(),\n",
        "    nn.Linear(2,1)\n",
        ")\n",
        "optimizer=optim.SGD(model.parameters(),lr=0.001)"
      ],
      "metadata": {
        "id": "GcktOZEj-xuF"
      },
      "execution_count": 61,
      "outputs": []
    },
    {
      "cell_type": "code",
      "source": [
        "# performance on train and test sets before training\n",
        "train_loss = criterion(model(X_train_tensor),y_train_tensor).item()\n",
        "test_loss = criterion(model(X_test_tensor),y_test_tensor).item()\n",
        "print(f' without Training:\\n Train Loss: {train_loss:.4f}, Test Loss: {test_loss:.4f}')\n"
      ],
      "metadata": {
        "colab": {
          "base_uri": "https://localhost:8080/"
        },
        "id": "it3EzfKa-xrb",
        "outputId": "5a656bfb-b691-4202-8d4b-3c4a1a6cb0ea"
      },
      "execution_count": 62,
      "outputs": [
        {
          "output_type": "stream",
          "name": "stdout",
          "text": [
            " without Training:\n",
            " Train Loss: 8.1139, Test Loss: 8.2756\n"
          ]
        }
      ]
    },
    {
      "cell_type": "code",
      "source": [
        "#  looking at predictions\n",
        "model(X_train_tensor)[:5]"
      ],
      "metadata": {
        "colab": {
          "base_uri": "https://localhost:8080/"
        },
        "id": "ik9MH7rn-xoy",
        "outputId": "f11565e3-fd27-4957-9a6a-337a3196f1f7"
      },
      "execution_count": 63,
      "outputs": [
        {
          "output_type": "execute_result",
          "data": {
            "text/plain": [
              "tensor([[0.4499],\n",
              "        [0.5206],\n",
              "        [0.6219],\n",
              "        [0.7985],\n",
              "        [0.3490]], grad_fn=<SliceBackward0>)"
            ]
          },
          "metadata": {},
          "execution_count": 63
        }
      ]
    },
    {
      "cell_type": "code",
      "source": [
        "# STOCHASTIC GRADIENT DESCENT\n",
        "train_loader=DataLoader(train_data,batch_size=1,shuffle=True)\n",
        "for epoch in range(10):\n",
        "  for x_batch,y_batch in train_loader:\n",
        "    # forward pass\n",
        "    preds=model(x_batch)\n",
        "    loss=criterion(preds,y_batch)\n",
        "    # backward pass and optimization\n",
        "    optimizer.zero_grad()\n",
        "    loss.backward()\n",
        "    optimizer.step()\n",
        "\n",
        "  train_loss=criterion(model(X_train_tensor),y_train_tensor).item()\n",
        "  # print epoch,': ',train_loss)\n",
        "  test_loss = criterion(model(X_test_tensor), y_test_tensor).item()\n",
        "  print(f'Epoch {epoch+1}: Train Loss: {train_loss:.4f}, Test Loss: {test_loss:.4f}')"
      ],
      "metadata": {
        "colab": {
          "base_uri": "https://localhost:8080/"
        },
        "id": "MpaOvy46AlPl",
        "outputId": "238efd38-ee4c-4490-938c-754d94e20c3c"
      },
      "execution_count": 69,
      "outputs": [
        {
          "output_type": "stream",
          "name": "stdout",
          "text": [
            "Epoch 1: Train Loss: 0.0747, Test Loss: 0.0783\n",
            "Epoch 2: Train Loss: 0.0747, Test Loss: 0.0777\n",
            "Epoch 3: Train Loss: 0.0747, Test Loss: 0.0783\n",
            "Epoch 4: Train Loss: 0.0747, Test Loss: 0.0784\n",
            "Epoch 5: Train Loss: 0.0747, Test Loss: 0.0786\n",
            "Epoch 6: Train Loss: 0.0747, Test Loss: 0.0786\n",
            "Epoch 7: Train Loss: 0.0746, Test Loss: 0.0779\n",
            "Epoch 8: Train Loss: 0.0747, Test Loss: 0.0776\n",
            "Epoch 9: Train Loss: 0.0746, Test Loss: 0.0780\n",
            "Epoch 10: Train Loss: 0.0746, Test Loss: 0.0783\n"
          ]
        }
      ]
    },
    {
      "cell_type": "code",
      "source": [
        "#looking at predictions\n",
        "model(X_train_tensor)[:5]"
      ],
      "metadata": {
        "colab": {
          "base_uri": "https://localhost:8080/"
        },
        "id": "WOXln2DxCK03",
        "outputId": "b4150eb9-9b8d-4859-c941-e263e3549ff2"
      },
      "execution_count": 70,
      "outputs": [
        {
          "output_type": "execute_result",
          "data": {
            "text/plain": [
              "tensor([[3.2970],\n",
              "        [2.9931],\n",
              "        [3.5485],\n",
              "        [3.0365],\n",
              "        [3.6960]], grad_fn=<SliceBackward0>)"
            ]
          },
          "metadata": {},
          "execution_count": 70
        }
      ]
    },
    {
      "cell_type": "code",
      "source": [
        "# reintialize model weights\n",
        "model=nn.Sequential(\n",
        "    nn.Linear(2,2),\n",
        "    nn.Sigmoid(),\n",
        "    nn.Linear(2,1)\n",
        ")\n",
        "optimizer=optim.SGD(model.parameters(),lr=0.001)"
      ],
      "metadata": {
        "id": "wGsu_F1oCa89"
      },
      "execution_count": 72,
      "outputs": []
    },
    {
      "cell_type": "code",
      "source": [
        "train_loader=DataLoader(train_data,batch_size=800,shuffle=True)\n",
        "for epoch in range(1000):\n",
        "  for x_batch,y_batch in train_loader:\n",
        "    # forward pass\n",
        "    preds=model(x_batch)\n",
        "    loss=criterion(preds,y_batch)\n",
        "    # backward pass and optimization\n",
        "    optimizer.zero_grad()\n",
        "    loss.backward()\n",
        "    optimizer.step()\n",
        "\n",
        "  if (epoch+1)%100==0:\n",
        "    train_loss=criterion(model(X_train_tensor),y_train_tensor).item()\n",
        "    # print epoch,': ',train_loss)\n",
        "    test_loss = criterion(model(X_test_tensor), y_test_tensor).item()\n",
        "    print(f'Epoch {epoch+1}: Train Loss: {train_loss:.4f}, Test Loss: {test_loss:.4f}')"
      ],
      "metadata": {
        "colab": {
          "base_uri": "https://localhost:8080/"
        },
        "id": "1HvONFu8Cj6Z",
        "outputId": "cb9127c5-cc36-4948-bd43-eef7677b84c6"
      },
      "execution_count": 77,
      "outputs": [
        {
          "output_type": "stream",
          "name": "stdout",
          "text": [
            "Epoch 100: Train Loss: 0.1140, Test Loss: 0.1294\n",
            "Epoch 200: Train Loss: 0.1108, Test Loss: 0.1250\n",
            "Epoch 300: Train Loss: 0.1084, Test Loss: 0.1217\n",
            "Epoch 400: Train Loss: 0.1063, Test Loss: 0.1190\n",
            "Epoch 500: Train Loss: 0.1045, Test Loss: 0.1166\n",
            "Epoch 600: Train Loss: 0.1029, Test Loss: 0.1145\n",
            "Epoch 700: Train Loss: 0.1013, Test Loss: 0.1126\n",
            "Epoch 800: Train Loss: 0.0999, Test Loss: 0.1108\n",
            "Epoch 900: Train Loss: 0.0985, Test Loss: 0.1092\n",
            "Epoch 1000: Train Loss: 0.0972, Test Loss: 0.1076\n"
          ]
        }
      ]
    },
    {
      "cell_type": "code",
      "source": [
        "# mini batch gradient descent\n",
        "model=nn.Sequential(\n",
        "    nn.Linear(2,2),\n",
        "    nn.Sigmoid(),\n",
        "    nn.Linear(2,1)\n",
        ")\n",
        "optimizer=optim.SGD(model.parameters(),lr=0.001)"
      ],
      "metadata": {
        "id": "Vfe0veBjDQpl"
      },
      "execution_count": 78,
      "outputs": []
    },
    {
      "cell_type": "code",
      "source": [
        "train_loader=DataLoader(train_data,batch_size=64,shuffle=True)\n",
        "for epoch in range(500):\n",
        "  for x_batch,y_batch in train_loader:\n",
        "    # forward pass\n",
        "    preds=model(x_batch)\n",
        "    loss=criterion(preds,y_batch)\n",
        "    # backward pass and optimization\n",
        "    optimizer.zero_grad()\n",
        "    loss.backward()\n",
        "    optimizer.step()\n",
        "\n",
        "  if (epoch+1)%50==0:\n",
        "    train_loss=criterion(model(X_train_tensor),y_train_tensor).item()\n",
        "    # print epoch,': ',train_loss)\n",
        "    test_loss = criterion(model(X_test_tensor), y_test_tensor).item()\n",
        "    print(f'Epoch {epoch+1}: Train Loss: {train_loss:.4f}, Test Loss: {test_loss:.4f}')"
      ],
      "metadata": {
        "colab": {
          "base_uri": "https://localhost:8080/"
        },
        "id": "v95oC3w7Davs",
        "outputId": "a8710b00-b627-4d81-c343-d4df88a2c7f6"
      },
      "execution_count": 79,
      "outputs": [
        {
          "output_type": "stream",
          "name": "stdout",
          "text": [
            "Epoch 50: Train Loss: 0.1806, Test Loss: 0.2111\n",
            "Epoch 100: Train Loss: 0.0976, Test Loss: 0.1133\n",
            "Epoch 150: Train Loss: 0.0906, Test Loss: 0.1030\n",
            "Epoch 200: Train Loss: 0.0859, Test Loss: 0.0965\n",
            "Epoch 250: Train Loss: 0.0826, Test Loss: 0.0916\n",
            "Epoch 300: Train Loss: 0.0801, Test Loss: 0.0881\n",
            "Epoch 350: Train Loss: 0.0784, Test Loss: 0.0854\n",
            "Epoch 400: Train Loss: 0.0771, Test Loss: 0.0834\n",
            "Epoch 450: Train Loss: 0.0762, Test Loss: 0.0819\n",
            "Epoch 500: Train Loss: 0.0756, Test Loss: 0.0808\n"
          ]
        }
      ]
    }
  ]
}