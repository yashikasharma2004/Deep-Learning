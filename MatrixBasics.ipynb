{
  "nbformat": 4,
  "nbformat_minor": 0,
  "metadata": {
    "colab": {
      "provenance": []
    },
    "kernelspec": {
      "name": "python3",
      "display_name": "Python 3"
    },
    "language_info": {
      "name": "python"
    }
  },
  "cells": [
    {
      "cell_type": "code",
      "execution_count": 1,
      "metadata": {
        "id": "LyeC8LFq6vIm"
      },
      "outputs": [],
      "source": [
        "import numpy as np"
      ]
    },
    {
      "cell_type": "code",
      "source": [
        "revenue=np.array([[180,200,220],[24,36,40],[12,18,20]])\n",
        "expenses=np.array([[80,90,100],[10,16,20],[8,10,10]])\n"
      ],
      "metadata": {
        "id": "QuLVUiJe63_a"
      },
      "execution_count": 2,
      "outputs": []
    },
    {
      "cell_type": "code",
      "source": [
        "profit=revenue-expenses\n",
        "profit"
      ],
      "metadata": {
        "colab": {
          "base_uri": "https://localhost:8080/"
        },
        "id": "ADCD2kfz7Jqi",
        "outputId": "a8eab4b8-9e72-473c-a76e-56c924155650"
      },
      "execution_count": 3,
      "outputs": [
        {
          "output_type": "execute_result",
          "data": {
            "text/plain": [
              "array([[100, 110, 120],\n",
              "       [ 14,  20,  20],\n",
              "       [  4,   8,  10]])"
            ]
          },
          "metadata": {},
          "execution_count": 3
        }
      ]
    },
    {
      "cell_type": "code",
      "source": [
        "price_per_unit=np.array([1000,400,1200])\n",
        "units=np.array([[30,40,50],[5,10,15],[2,5,7]])"
      ],
      "metadata": {
        "id": "m3G7_cA27N-9"
      },
      "execution_count": 4,
      "outputs": []
    },
    {
      "cell_type": "code",
      "source": [
        "# here is broadcasting of matrix that is in b/w expansion of price_per_unit\n",
        "np.dot(price_per_unit,units)"
      ],
      "metadata": {
        "colab": {
          "base_uri": "https://localhost:8080/"
        },
        "id": "NozfbUQ_7mOg",
        "outputId": "a6765a7e-f02f-426e-bc9f-0c1b06ff1843"
      },
      "execution_count": 6,
      "outputs": [
        {
          "output_type": "execute_result",
          "data": {
            "text/plain": [
              "array([34400, 50000, 64400])"
            ]
          },
          "metadata": {},
          "execution_count": 6
        }
      ]
    },
    {
      "cell_type": "code",
      "source": [
        "prices_in_indian=np.array([[200,220,250],[68,79,105],[110,140,180],[80,85,90]])\n",
        "prices_in_indian\n",
        "prices_in_dollar=prices_in_indian*75\n",
        "prices_in_dollar"
      ],
      "metadata": {
        "colab": {
          "base_uri": "https://localhost:8080/"
        },
        "id": "e4jIQ4-C791t",
        "outputId": "b3b62402-bb2e-4271-8dfd-6780cad34bbb"
      },
      "execution_count": 7,
      "outputs": [
        {
          "output_type": "execute_result",
          "data": {
            "text/plain": [
              "array([[15000, 16500, 18750],\n",
              "       [ 5100,  5925,  7875],\n",
              "       [ 8250, 10500, 13500],\n",
              "       [ 6000,  6375,  6750]])"
            ]
          },
          "metadata": {},
          "execution_count": 7
        }
      ]
    },
    {
      "cell_type": "code",
      "source": [
        "units_sold=np.array([[50,60,25],[10,13,5],[40,70,52]])\n",
        "price_per_unit=np.array([20,30,15])\n",
        "total_sales=np.dot(price_per_unit,units_sold)\n",
        "total_sales\n"
      ],
      "metadata": {
        "colab": {
          "base_uri": "https://localhost:8080/"
        },
        "id": "VPz_Ukvd8iQW",
        "outputId": "3701dbdd-9216-462a-a745-1e38a92e989c"
      },
      "execution_count": 8,
      "outputs": [
        {
          "output_type": "execute_result",
          "data": {
            "text/plain": [
              "array([1900, 2640, 1430])"
            ]
          },
          "metadata": {},
          "execution_count": 8
        }
      ]
    }
  ]
}